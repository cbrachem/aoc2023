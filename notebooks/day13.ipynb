{
 "cells": [
  {
   "cell_type": "code",
   "execution_count": 1,
   "id": "ebef1675",
   "metadata": {},
   "outputs": [],
   "source": [
    "import numpy as np"
   ]
  },
  {
   "cell_type": "code",
   "execution_count": 2,
   "id": "fc10389d",
   "metadata": {},
   "outputs": [],
   "source": [
    "def parse_pattern(lines):\n",
    "    num_lines = []\n",
    "    for line in lines:\n",
    "        num_lines.append([1 if ch == \"#\" else 0 for ch in line])\n",
    "    \n",
    "    return np.array(num_lines, dtype=int)\n",
    "\n",
    "def parse_input(filename):\n",
    "    with open(filename) as f:\n",
    "        lines = [line.strip() for line in f]\n",
    "    \n",
    "    patterns = []\n",
    "    \n",
    "    cur_pattern = []\n",
    "    for line in lines:\n",
    "        if len(line) == 0:\n",
    "            patterns.append(cur_pattern)\n",
    "            cur_pattern = []\n",
    "        else:\n",
    "            cur_pattern.append(line)\n",
    "    if len(cur_pattern) > 0:\n",
    "        patterns.append(cur_pattern)\n",
    "    \n",
    "    parsed_patterns = [parse_pattern(pattern) for pattern in patterns]\n",
    "    return parsed_patterns"
   ]
  },
  {
   "cell_type": "code",
   "execution_count": 3,
   "id": "d6c43251",
   "metadata": {},
   "outputs": [],
   "source": [
    "# patterns = parse_input(\"../input/day13-sample1.txt\")\n",
    "patterns = parse_input(\"../input/day13-input.txt\")"
   ]
  },
  {
   "cell_type": "code",
   "execution_count": 4,
   "id": "9f13ec1e",
   "metadata": {},
   "outputs": [
    {
     "data": {
      "text/plain": [
       "array([[0, 0, 0, 1, 1, 0, 0, 0, 0],\n",
       "       [0, 1, 0, 1, 1, 0, 1, 0, 0],\n",
       "       [0, 1, 0, 0, 0, 0, 1, 0, 0],\n",
       "       [0, 1, 1, 0, 0, 1, 1, 0, 0],\n",
       "       [0, 0, 0, 1, 1, 0, 0, 0, 0],\n",
       "       [0, 0, 1, 1, 1, 1, 0, 1, 1],\n",
       "       [1, 0, 0, 1, 1, 0, 0, 1, 1]])"
      ]
     },
     "execution_count": 4,
     "metadata": {},
     "output_type": "execute_result"
    }
   ],
   "source": [
    "patterns[0]"
   ]
  },
  {
   "cell_type": "code",
   "execution_count": 5,
   "id": "14712ff0",
   "metadata": {},
   "outputs": [],
   "source": [
    "def find_mirror(pattern, diffs = 0):\n",
    "    for x in range(1, pattern.shape[1]):\n",
    "        a = pattern[:,:x]\n",
    "        b = pattern[:,x:]\n",
    "        m = min(a.shape[1], b.shape[1])\n",
    "        a = a[:,-m:]\n",
    "        b = b[:,:m]\n",
    "        if np.count_nonzero(a - b[:,::-1]) == diffs:\n",
    "            return x\n",
    "    return None"
   ]
  },
  {
   "cell_type": "code",
   "execution_count": 6,
   "id": "b122280c",
   "metadata": {},
   "outputs": [
    {
     "data": {
      "text/plain": [
       "30518"
      ]
     },
     "execution_count": 6,
     "metadata": {},
     "output_type": "execute_result"
    }
   ],
   "source": [
    "part1 = sum(find_mirror(p) or find_mirror(p.T) * 100 for p in patterns)\n",
    "part1"
   ]
  },
  {
   "cell_type": "code",
   "execution_count": 7,
   "id": "3a4a0b2a",
   "metadata": {},
   "outputs": [
    {
     "data": {
      "text/plain": [
       "36735"
      ]
     },
     "execution_count": 7,
     "metadata": {},
     "output_type": "execute_result"
    }
   ],
   "source": [
    "part2 = sum(find_mirror(p, 1) or find_mirror(p.T, 1) * 100 for p in patterns)\n",
    "part2"
   ]
  },
  {
   "cell_type": "code",
   "execution_count": null,
   "id": "290c75fc",
   "metadata": {},
   "outputs": [],
   "source": []
  }
 ],
 "metadata": {
  "kernelspec": {
   "display_name": "Python 3 (ipykernel)",
   "language": "python",
   "name": "python3"
  },
  "language_info": {
   "codemirror_mode": {
    "name": "ipython",
    "version": 3
   },
   "file_extension": ".py",
   "mimetype": "text/x-python",
   "name": "python",
   "nbconvert_exporter": "python",
   "pygments_lexer": "ipython3",
   "version": "3.10.9"
  }
 },
 "nbformat": 4,
 "nbformat_minor": 5
}
