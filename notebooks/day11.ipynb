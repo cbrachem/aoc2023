{
 "cells": [
  {
   "cell_type": "code",
   "execution_count": 1,
   "id": "fbb3267a",
   "metadata": {},
   "outputs": [],
   "source": [
    "import numpy as np\n",
    "from scipy.spatial.distance import pdist"
   ]
  },
  {
   "cell_type": "code",
   "execution_count": 2,
   "id": "2b2c0473",
   "metadata": {},
   "outputs": [],
   "source": [
    "def parse_input(filename):\n",
    "    with open(filename) as f:\n",
    "        lines = [line.strip() for line in f]\n",
    "    return lines"
   ]
  },
  {
   "cell_type": "code",
   "execution_count": 3,
   "id": "e0e42f4e",
   "metadata": {},
   "outputs": [],
   "source": [
    "# field = parse_input(\"../input/day11-sample1.txt\")\n",
    "field = parse_input(\"../input/day11-input.txt\")"
   ]
  },
  {
   "cell_type": "code",
   "execution_count": 4,
   "id": "10d5c55d",
   "metadata": {},
   "outputs": [],
   "source": [
    "galaxies = []\n",
    "for i, line in enumerate(field):\n",
    "    # print(line)\n",
    "    galaxies += [(i, j) for j, ch in enumerate(line) if ch == \"#\"]"
   ]
  },
  {
   "cell_type": "code",
   "execution_count": 5,
   "id": "c1c27fe0",
   "metadata": {},
   "outputs": [],
   "source": [
    "# galaxies"
   ]
  },
  {
   "cell_type": "code",
   "execution_count": 6,
   "id": "c109c86f",
   "metadata": {},
   "outputs": [],
   "source": [
    "# notes:\n",
    "# - we can determine empty cols and rows separately\n",
    "# - we don't need to track empty cols/rows beyond the last galaxy\n",
    "\n",
    "galaxy_cols = [j for i, j in galaxies]\n",
    "empty_cols = set(range(max(galaxy_cols))).difference(galaxy_cols)\n",
    "\n",
    "galaxy_rows = [i for i, j in galaxies]\n",
    "empty_rows = set(range(max(galaxy_rows))).difference(galaxy_rows)\n"
   ]
  },
  {
   "cell_type": "code",
   "execution_count": 7,
   "id": "25b21204",
   "metadata": {},
   "outputs": [
    {
     "data": {
      "text/plain": [
       "({10, 22, 46, 59, 70, 81, 84, 90}, {24, 47, 52, 76, 84, 90, 103, 111, 131})"
      ]
     },
     "execution_count": 7,
     "metadata": {},
     "output_type": "execute_result"
    }
   ],
   "source": [
    "empty_cols, empty_rows"
   ]
  },
  {
   "cell_type": "code",
   "execution_count": 8,
   "id": "74ebe78f",
   "metadata": {},
   "outputs": [],
   "source": [
    "def expand(galaxies, N = 1):\n",
    "    return [\n",
    "        (i + sum(N for n in empty_rows if n < i), j + sum(N for n in empty_cols if n < j))\n",
    "        for i, j in galaxies\n",
    "    ]"
   ]
  },
  {
   "cell_type": "code",
   "execution_count": 9,
   "id": "c315469f",
   "metadata": {},
   "outputs": [
    {
     "data": {
      "text/plain": [
       "9509330"
      ]
     },
     "execution_count": 9,
     "metadata": {},
     "output_type": "execute_result"
    }
   ],
   "source": [
    "part1 = np.sum(pdist(expand(galaxies), metric='cityblock'), dtype=int)\n",
    "part1"
   ]
  },
  {
   "cell_type": "code",
   "execution_count": 10,
   "id": "02a52dcc",
   "metadata": {},
   "outputs": [
    {
     "data": {
      "text/plain": [
       "635832237682"
      ]
     },
     "execution_count": 10,
     "metadata": {},
     "output_type": "execute_result"
    }
   ],
   "source": [
    "part2 = np.sum(pdist(expand(galaxies, 1_000_000 - 1), metric='cityblock'), dtype=int)\n",
    "part2"
   ]
  },
  {
   "cell_type": "code",
   "execution_count": null,
   "id": "8ee4ae45",
   "metadata": {},
   "outputs": [],
   "source": []
  }
 ],
 "metadata": {
  "kernelspec": {
   "display_name": "Python 3 (ipykernel)",
   "language": "python",
   "name": "python3"
  },
  "language_info": {
   "codemirror_mode": {
    "name": "ipython",
    "version": 3
   },
   "file_extension": ".py",
   "mimetype": "text/x-python",
   "name": "python",
   "nbconvert_exporter": "python",
   "pygments_lexer": "ipython3",
   "version": "3.10.9"
  }
 },
 "nbformat": 4,
 "nbformat_minor": 5
}
