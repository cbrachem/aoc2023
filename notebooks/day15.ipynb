{
 "cells": [
  {
   "cell_type": "code",
   "execution_count": 1,
   "id": "4d84fded",
   "metadata": {},
   "outputs": [],
   "source": [
    "def read_input(filename):\n",
    "    with open(filename) as f:\n",
    "        return f.read().strip().split(\",\")"
   ]
  },
  {
   "cell_type": "code",
   "execution_count": 2,
   "id": "6f70fe36",
   "metadata": {},
   "outputs": [],
   "source": [
    "def hash(s):\n",
    "    cur = 0\n",
    "    for ch in s:\n",
    "        cur = ((cur + ord(ch)) * 17) % 256\n",
    "    return cur"
   ]
  },
  {
   "cell_type": "code",
   "execution_count": 3,
   "id": "f6c1a94e",
   "metadata": {},
   "outputs": [],
   "source": [
    "# sequence = read_input(\"../input/day15-sample1.txt\")\n",
    "sequence = read_input(\"../input/day15-input.txt\")"
   ]
  },
  {
   "cell_type": "code",
   "execution_count": 4,
   "id": "d55c2b36",
   "metadata": {},
   "outputs": [
    {
     "data": {
      "text/plain": [
       "506869"
      ]
     },
     "execution_count": 4,
     "metadata": {},
     "output_type": "execute_result"
    }
   ],
   "source": [
    "part1 = sum(hash(s) for s in sequence)\n",
    "part1"
   ]
  },
  {
   "cell_type": "code",
   "execution_count": 5,
   "id": "3bd2533b",
   "metadata": {},
   "outputs": [],
   "source": [
    "# sequence"
   ]
  },
  {
   "cell_type": "code",
   "execution_count": 6,
   "id": "d2b3e3d5",
   "metadata": {},
   "outputs": [],
   "source": [
    "def parse_instruction(inst):\n",
    "    if \"-\" in inst:\n",
    "        return (inst[:-1], None)\n",
    "    else:\n",
    "        a, b = inst.split(\"=\")\n",
    "        return (a, int(b))"
   ]
  },
  {
   "cell_type": "code",
   "execution_count": 7,
   "id": "68e7b5da",
   "metadata": {},
   "outputs": [],
   "source": [
    "parsed = [parse_instruction(s) for s in sequence]"
   ]
  },
  {
   "cell_type": "code",
   "execution_count": 8,
   "id": "f6be1dda",
   "metadata": {},
   "outputs": [],
   "source": [
    "# dicts are guaranteed to be sorted by insertion order\n",
    "boxes = [{} for _ in range(256)]\n",
    "for la, val in parsed:\n",
    "    i = hash(la)\n",
    "    if val:\n",
    "        boxes[i][la] = val\n",
    "    elif la in boxes[i]:\n",
    "        del boxes[i][la]"
   ]
  },
  {
   "cell_type": "code",
   "execution_count": 9,
   "id": "5733701a",
   "metadata": {},
   "outputs": [
    {
     "data": {
      "text/plain": [
       "271384"
      ]
     },
     "execution_count": 9,
     "metadata": {},
     "output_type": "execute_result"
    }
   ],
   "source": [
    "part2 = sum(\n",
    "    (bi + 1) * (i + 1) * val\n",
    "    for bi,b in enumerate(boxes)\n",
    "    for (i, (la, val)) in enumerate(b.items())\n",
    ")\n",
    "part2"
   ]
  },
  {
   "cell_type": "code",
   "execution_count": null,
   "id": "e34cfac4",
   "metadata": {},
   "outputs": [],
   "source": []
  }
 ],
 "metadata": {
  "kernelspec": {
   "display_name": "Python 3 (ipykernel)",
   "language": "python",
   "name": "python3"
  },
  "language_info": {
   "codemirror_mode": {
    "name": "ipython",
    "version": 3
   },
   "file_extension": ".py",
   "mimetype": "text/x-python",
   "name": "python",
   "nbconvert_exporter": "python",
   "pygments_lexer": "ipython3",
   "version": "3.10.9"
  }
 },
 "nbformat": 4,
 "nbformat_minor": 5
}
