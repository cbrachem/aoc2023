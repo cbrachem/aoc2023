{
 "cells": [
  {
   "cell_type": "code",
   "execution_count": 1,
   "id": "3aedf91e",
   "metadata": {},
   "outputs": [],
   "source": [
    "import re"
   ]
  },
  {
   "cell_type": "code",
   "execution_count": 2,
   "id": "a5548ee8",
   "metadata": {},
   "outputs": [],
   "source": [
    "with open(\"../input/day01-sample1.txt\") as f:\n",
    "    inp_sample1 = [line.rstrip() for line in f]\n",
    "\n",
    "with open(\"../input/day01-sample2.txt\") as f:\n",
    "    inp_sample2 = [line.rstrip() for line in f]\n",
    "\n",
    "with open(\"../input/day01-input.txt\") as f:\n",
    "    inp = [line.rstrip() for line in f]"
   ]
  },
  {
   "cell_type": "code",
   "execution_count": 3,
   "id": "f8b0573c",
   "metadata": {},
   "outputs": [],
   "source": [
    "# inp"
   ]
  },
  {
   "cell_type": "code",
   "execution_count": 4,
   "id": "03d14368",
   "metadata": {},
   "outputs": [],
   "source": [
    "m1 = {str(n): str(n) for n in range(1, 10)}\n",
    "digit_names = ['one', 'two', 'three', 'four', 'five', 'six', 'seven', 'eight', 'nine']\n",
    "m2 = {v: str(idx + 1) for idx,v in enumerate(digit_names)}\n"
   ]
  },
  {
   "cell_type": "code",
   "execution_count": 5,
   "id": "966cf44d",
   "metadata": {},
   "outputs": [
    {
     "data": {
      "text/plain": [
       "55816"
      ]
     },
     "execution_count": 5,
     "metadata": {},
     "output_type": "execute_result"
    }
   ],
   "source": [
    "# part 1\n",
    "def calib_part1(line):\n",
    "    mapping = m1\n",
    "    digits = re.findall(r\"\\d\", line)\n",
    "    return int(mapping[digits[0]] + mapping[digits[-1]])\n",
    "\n",
    "sum(calib_part1(line) for line in inp)"
   ]
  },
  {
   "cell_type": "code",
   "execution_count": 6,
   "id": "2959d95f",
   "metadata": {},
   "outputs": [
    {
     "data": {
      "text/plain": [
       "54980"
      ]
     },
     "execution_count": 6,
     "metadata": {},
     "output_type": "execute_result"
    }
   ],
   "source": [
    "# part 2\n",
    "def calib_part2(line):\n",
    "    mapping = m1 | m2\n",
    "    digits = re.findall(r\"(?=(\\d|one|two|three|four|five|six|seven|eight|nine))\", line)\n",
    "    return int(mapping[digits[0]] + mapping[digits[-1]])\n",
    "\n",
    "sum(calib_part2(line) for line in inp)"
   ]
  },
  {
   "cell_type": "code",
   "execution_count": null,
   "id": "1e4188da",
   "metadata": {},
   "outputs": [],
   "source": []
  }
 ],
 "metadata": {
  "kernelspec": {
   "display_name": "Python 3 (ipykernel)",
   "language": "python",
   "name": "python3"
  },
  "language_info": {
   "codemirror_mode": {
    "name": "ipython",
    "version": 3
   },
   "file_extension": ".py",
   "mimetype": "text/x-python",
   "name": "python",
   "nbconvert_exporter": "python",
   "pygments_lexer": "ipython3",
   "version": "3.10.9"
  }
 },
 "nbformat": 4,
 "nbformat_minor": 5
}
