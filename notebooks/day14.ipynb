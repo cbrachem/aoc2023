{
 "cells": [
  {
   "cell_type": "code",
   "execution_count": 1,
   "id": "fc0faef2",
   "metadata": {},
   "outputs": [],
   "source": [
    "import numpy as np"
   ]
  },
  {
   "cell_type": "code",
   "execution_count": 2,
   "id": "c87ce12c",
   "metadata": {},
   "outputs": [],
   "source": [
    "def parse_input(filename):\n",
    "    with open(filename) as f:\n",
    "        lines = [line.strip() for line in f]\n",
    "    return lines"
   ]
  },
  {
   "cell_type": "code",
   "execution_count": 3,
   "id": "0fb0cf04",
   "metadata": {},
   "outputs": [],
   "source": [
    "# platform = parse_input(\"../input/day14-sample1.txt\")\n",
    "platform = parse_input(\"../input/day14-input.txt\")"
   ]
  },
  {
   "cell_type": "code",
   "execution_count": 4,
   "id": "cc4e85db",
   "metadata": {},
   "outputs": [
    {
     "data": {
      "text/plain": [
       "(100, 100)"
      ]
     },
     "execution_count": 4,
     "metadata": {},
     "output_type": "execute_result"
    }
   ],
   "source": [
    "len(platform), len(platform[0])"
   ]
  },
  {
   "cell_type": "code",
   "execution_count": 5,
   "id": "305908cd",
   "metadata": {},
   "outputs": [],
   "source": [
    "def rotate(platform):\n",
    "    width = len(platform[0])\n",
    "    new_platform = []\n",
    "    for i in range(width):\n",
    "        new_platform.append(\"\".join(row[i] for row in platform)[::-1])\n",
    "    return new_platform"
   ]
  },
  {
   "cell_type": "code",
   "execution_count": 6,
   "id": "6527e5e7",
   "metadata": {},
   "outputs": [],
   "source": [
    "def tilt_left(platform):\n",
    "    new_platform = []\n",
    "    for row in platform:\n",
    "        new_row = ''\n",
    "        os, dots = 0, 0\n",
    "        for ch in row:\n",
    "            if ch == 'O':\n",
    "                os += 1\n",
    "            elif ch == '.':\n",
    "                dots += 1\n",
    "            else: # ch == '#'\n",
    "                new_row += 'O' * os + '.' * dots + '#'\n",
    "                os, dots = 0, 0\n",
    "        new_row += 'O' * os + '.' * dots\n",
    "        new_platform.append(new_row)\n",
    "    return new_platform"
   ]
  },
  {
   "cell_type": "code",
   "execution_count": 7,
   "id": "a8ce7760",
   "metadata": {
    "scrolled": true
   },
   "outputs": [],
   "source": [
    "# rotate(tilt_left(rotate(rotate(rotate(platform)))))"
   ]
  },
  {
   "cell_type": "code",
   "execution_count": 8,
   "id": "e8a1a25a",
   "metadata": {},
   "outputs": [],
   "source": [
    "def score_left(platform):\n",
    "    N = len(platform) # platform is square\n",
    "    score = 0\n",
    "    for row in platform:\n",
    "        score += sum(N - i for i, ch in enumerate(row) if ch == 'O')\n",
    "    return score"
   ]
  },
  {
   "cell_type": "code",
   "execution_count": 9,
   "id": "fba17799",
   "metadata": {},
   "outputs": [
    {
     "data": {
      "text/plain": [
       "106186"
      ]
     },
     "execution_count": 9,
     "metadata": {},
     "output_type": "execute_result"
    }
   ],
   "source": [
    "part1 = score_left(tilt_left(rotate(rotate(rotate(platform)))))\n",
    "part1"
   ]
  },
  {
   "cell_type": "code",
   "execution_count": 10,
   "id": "f9374ed9",
   "metadata": {},
   "outputs": [],
   "source": [
    "def cycle(platform):\n",
    "    p = platform\n",
    "    # tilt north\n",
    "    p = rotate(tilt_left(rotate(rotate(rotate(p)))))\n",
    "    # tilt west\n",
    "    p = tilt_left(p)\n",
    "    # tilt south\n",
    "    p = rotate(rotate(rotate(tilt_left(rotate(p)))))\n",
    "    # tilt east\n",
    "    p = rotate(rotate(tilt_left(rotate(rotate(p)))))\n",
    "    return p"
   ]
  },
  {
   "cell_type": "code",
   "execution_count": 11,
   "id": "436e3d7e",
   "metadata": {},
   "outputs": [],
   "source": [
    "p = platform.copy()\n",
    "s = \"\".join(p)\n",
    "prev = []\n",
    "prev_scores = []\n",
    "score = score_left(p)\n",
    "cnt = 0\n",
    "while s not in prev and cnt < 100_000:\n",
    "    prev.append(s)\n",
    "    prev_scores.append(score)\n",
    "    cnt += 1\n",
    "    p = cycle(p)\n",
    "    s = \"\".join(p)\n",
    "    score = score_left(rotate(rotate(rotate(p))))\n",
    "    # print(s, score, cnt - 1, cnt)"
   ]
  },
  {
   "cell_type": "code",
   "execution_count": 12,
   "id": "529ecb48",
   "metadata": {},
   "outputs": [
    {
     "data": {
      "text/plain": [
       "(109, 131, 22)"
      ]
     },
     "execution_count": 12,
     "metadata": {},
     "output_type": "execute_result"
    }
   ],
   "source": [
    "cycle_start, cycle_end = prev.index(s), cnt\n",
    "cycle_length = cycle_end - cycle_start\n",
    "cycle_start, cycle_end, cycle_length"
   ]
  },
  {
   "cell_type": "code",
   "execution_count": 13,
   "id": "b166f4ae",
   "metadata": {},
   "outputs": [],
   "source": [
    "# list(enumerate(prev_scores))"
   ]
  },
  {
   "cell_type": "code",
   "execution_count": 14,
   "id": "494b14f6",
   "metadata": {},
   "outputs": [
    {
     "data": {
      "text/plain": [
       "5"
      ]
     },
     "execution_count": 14,
     "metadata": {},
     "output_type": "execute_result"
    }
   ],
   "source": [
    "# 1_000_000_000\n",
    "(20 - 3) % (10 - 3) + 2"
   ]
  },
  {
   "cell_type": "code",
   "execution_count": 15,
   "id": "85398500",
   "metadata": {},
   "outputs": [
    {
     "data": {
      "text/plain": [
       "106390"
      ]
     },
     "execution_count": 15,
     "metadata": {},
     "output_type": "execute_result"
    }
   ],
   "source": [
    "part2 = prev_scores[(1_000_000_000 - cycle_start) % cycle_length + cycle_start]\n",
    "part2"
   ]
  },
  {
   "cell_type": "code",
   "execution_count": null,
   "id": "e7f452c6",
   "metadata": {},
   "outputs": [],
   "source": []
  }
 ],
 "metadata": {
  "kernelspec": {
   "display_name": "Python 3 (ipykernel)",
   "language": "python",
   "name": "python3"
  },
  "language_info": {
   "codemirror_mode": {
    "name": "ipython",
    "version": 3
   },
   "file_extension": ".py",
   "mimetype": "text/x-python",
   "name": "python",
   "nbconvert_exporter": "python",
   "pygments_lexer": "ipython3",
   "version": "3.10.9"
  }
 },
 "nbformat": 4,
 "nbformat_minor": 5
}
