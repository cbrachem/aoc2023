{
 "cells": [
  {
   "cell_type": "code",
   "execution_count": 1,
   "id": "0e84af31",
   "metadata": {},
   "outputs": [],
   "source": [
    "import re\n",
    "import math"
   ]
  },
  {
   "cell_type": "code",
   "execution_count": 2,
   "id": "afc18523",
   "metadata": {},
   "outputs": [],
   "source": [
    "def find_numbers(lines):\n",
    "    # (i, j_min, j_max, value)\n",
    "    matches = []\n",
    "    numbers = [(i, list(re.finditer(r\"\\d+\", line))) for (i,line) in enumerate(lines)]\n",
    "    for i, line_matches in numbers:\n",
    "        for match in line_matches:\n",
    "            start, end = match.start(0), match.end(0)\n",
    "            x = (i, start, end, int(lines[i][start:end]))\n",
    "            matches.append(x)\n",
    "    return matches\n",
    "\n",
    "def find_symbols(lines):\n",
    "    # (i, j, value)\n",
    "    matches = []\n",
    "    symbols = [(i, list(re.finditer(r\"[^\\d\\.]\", line))) for (i, line) in enumerate(lines)]\n",
    "    for i, line_matches in symbols:\n",
    "        for match in line_matches:\n",
    "            start, end = match.start(0), match.end(0)\n",
    "            value = lines[i][start:end]\n",
    "            matches.append((i, start, value))\n",
    "    return matches\n",
    "    \n",
    "\n",
    "def parse_input(filename):\n",
    "    with open(filename) as file:\n",
    "        lines = [line.rstrip() for line in file]\n",
    "    \n",
    "    numbers = find_numbers(lines)\n",
    "    symbols = find_symbols(lines)\n",
    "    \n",
    "    return (numbers, symbols)"
   ]
  },
  {
   "cell_type": "code",
   "execution_count": 3,
   "id": "828f593d",
   "metadata": {},
   "outputs": [],
   "source": [
    "# inp = parse_input(\"../input/day03-sample1.txt\")\n",
    "inp = parse_input(\"../input/day03-input.txt\")"
   ]
  },
  {
   "cell_type": "code",
   "execution_count": 4,
   "id": "ab2615e0",
   "metadata": {},
   "outputs": [],
   "source": [
    "# part 1"
   ]
  },
  {
   "cell_type": "code",
   "execution_count": 5,
   "id": "9afa3dc2",
   "metadata": {},
   "outputs": [],
   "source": [
    "def positions(symbols):\n",
    "    return [(a, b) for (a, b, c) in symbols]\n",
    "\n",
    "def neighbors_single(number):\n",
    "    i, start, end, value = number\n",
    "    top = [(i - 1, x) for x in range(start - 1, end + 1)]\n",
    "    bottom = [(i + 1, x) for x in range(start - 1, end + 1)]\n",
    "    lr = [(i, start - 1), (i, end)]\n",
    "    return (top + bottom + lr)\n",
    "\n",
    "def get_neighbors(numbers):\n",
    "    return [(x[3], neighbors_single(x)) for x in numbers]"
   ]
  },
  {
   "cell_type": "code",
   "execution_count": 6,
   "id": "d0595206",
   "metadata": {},
   "outputs": [],
   "source": [
    "def part1(inp):\n",
    "    symbol_positions = [(a, b) for (a, b, c) in inp[1]]\n",
    "    neighbors = get_neighbors(inp[0])\n",
    "    s = 0\n",
    "    for (number, ns) in neighbors:\n",
    "        for pos in symbol_positions:\n",
    "            if pos in ns:\n",
    "                s += number\n",
    "    return s\n",
    "                          "
   ]
  },
  {
   "cell_type": "code",
   "execution_count": 7,
   "id": "a97772d8",
   "metadata": {},
   "outputs": [
    {
     "data": {
      "text/plain": [
       "517021"
      ]
     },
     "execution_count": 7,
     "metadata": {},
     "output_type": "execute_result"
    }
   ],
   "source": [
    "# part 1\n",
    "part1(inp)"
   ]
  },
  {
   "cell_type": "code",
   "execution_count": 8,
   "id": "24700431",
   "metadata": {},
   "outputs": [],
   "source": [
    "# part 2\n",
    "def part2(inp):\n",
    "    potential_gear_positions = [(i, j) for (i, j, s) in inp[1] if s == \"*\"]\n",
    "    neighbors = get_neighbors(inp[0])\n",
    "    x = 0\n",
    "    for potential_gear in potential_gear_positions:\n",
    "        gears = ([n[0] for n in neighbors if potential_gear in n[1]])\n",
    "        if len(gears) == 2:\n",
    "            x += math.prod(gears)\n",
    "    return x"
   ]
  },
  {
   "cell_type": "code",
   "execution_count": 9,
   "id": "dcedc92d",
   "metadata": {},
   "outputs": [
    {
     "data": {
      "text/plain": [
       "81296995"
      ]
     },
     "execution_count": 9,
     "metadata": {},
     "output_type": "execute_result"
    }
   ],
   "source": [
    "part2(inp)"
   ]
  }
 ],
 "metadata": {
  "kernelspec": {
   "display_name": "Python 3 (ipykernel)",
   "language": "python",
   "name": "python3"
  },
  "language_info": {
   "codemirror_mode": {
    "name": "ipython",
    "version": 3
   },
   "file_extension": ".py",
   "mimetype": "text/x-python",
   "name": "python",
   "nbconvert_exporter": "python",
   "pygments_lexer": "ipython3",
   "version": "3.10.9"
  }
 },
 "nbformat": 4,
 "nbformat_minor": 5
}
