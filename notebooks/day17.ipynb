{
 "cells": [
  {
   "cell_type": "code",
   "execution_count": 1,
   "id": "585dbbe6",
   "metadata": {},
   "outputs": [],
   "source": [
    "import queue\n",
    "import collections"
   ]
  },
  {
   "cell_type": "code",
   "execution_count": 2,
   "id": "93385e9f",
   "metadata": {},
   "outputs": [],
   "source": [
    "def read_file(filename):\n",
    "    with open(filename) as f:\n",
    "        return [list(map(int, line.strip())) for line in f]"
   ]
  },
  {
   "cell_type": "code",
   "execution_count": 3,
   "id": "183d325e",
   "metadata": {},
   "outputs": [],
   "source": [
    "# lines = read_file(\"../input/day17-sample1.txt\")\n",
    "# lines = read_file(\"../input/day17-sample2.txt\")\n",
    "lines = read_file(\"../input/day17-input.txt\")"
   ]
  },
  {
   "cell_type": "code",
   "execution_count": 4,
   "id": "27167cc3",
   "metadata": {},
   "outputs": [
    {
     "data": {
      "text/plain": [
       "(141, 141)"
      ]
     },
     "execution_count": 4,
     "metadata": {},
     "output_type": "execute_result"
    }
   ],
   "source": [
    "# lines\n",
    "len(lines), len(lines[0])"
   ]
  },
  {
   "cell_type": "code",
   "execution_count": 5,
   "id": "7c7e6e42",
   "metadata": {},
   "outputs": [],
   "source": [
    "u, d, l, r = ('u', -1, 0), ('d', 1, 0), ('l', 0, -1), ('r', 0, 1)\n",
    "\n",
    "directions = {\n",
    "    'u': [u, l, r],\n",
    "    'd': [d, l, r],\n",
    "    'l': [u, d, l],\n",
    "    'r': [u, d, r]\n",
    "}\n",
    "\n",
    "def ingrid(i, j, height, width):\n",
    "    return i >= 0 and i < height and j >= 0 and j < width\n",
    "\n",
    "# node has form of (i, j, direction_from, steps_left)\n",
    "def build_graph(lines, min_steps=0, max_steps=3):\n",
    "    height = len(lines)\n",
    "    width = len(lines[0])\n",
    "    G = {}\n",
    "    \n",
    "    for i in range(height):\n",
    "        for j in range(width):\n",
    "            for dir_from in directions.keys():\n",
    "                for steps in range(max_steps):\n",
    "                    node = (i, j, dir_from, steps)\n",
    "                    neigh = [\n",
    "                        (i + di, j + dj, fr, steps - 1 if fr == dir_from else max_steps - 1)\n",
    "                        for (fr, di, dj) in directions[dir_from]\n",
    "                        if ingrid(i + di, j + dj, height, width)\n",
    "                        and (steps > 0 or fr != dir_from)\n",
    "                        and ((max_steps - steps) >= min_steps or fr == dir_from)\n",
    "                    ]\n",
    "                    G[node] = [(n, lines[n[0]][n[1]]) for n in neigh]    \n",
    "    return G"
   ]
  },
  {
   "cell_type": "code",
   "execution_count": 6,
   "id": "308339c8",
   "metadata": {},
   "outputs": [],
   "source": [
    "def dijkstra(G, start):\n",
    "    dist = collections.defaultdict(lambda: 1_000_000_000)\n",
    "    visited = set()\n",
    "    prev = dict()\n",
    "    Q = queue.PriorityQueue()\n",
    "    \n",
    "    for s in start:\n",
    "        dist[s] = 0\n",
    "        Q.put((0, s))\n",
    "\n",
    "    while Q:\n",
    "        while not Q.empty():\n",
    "            _, node = Q.get()\n",
    "            if node not in visited:\n",
    "                break\n",
    "        else:\n",
    "            break\n",
    "            \n",
    "        for (n, d) in G[node]:\n",
    "            new_dist = dist[node] + d\n",
    "            if new_dist < dist[n]:\n",
    "                dist[n] = new_dist\n",
    "                prev[n] = node\n",
    "                Q.put((new_dist, n))\n",
    "    return dist, prev"
   ]
  },
  {
   "cell_type": "code",
   "execution_count": 7,
   "id": "c07dd398",
   "metadata": {},
   "outputs": [],
   "source": [
    "G = build_graph(lines)"
   ]
  },
  {
   "cell_type": "code",
   "execution_count": 8,
   "id": "25d958b3",
   "metadata": {},
   "outputs": [],
   "source": [
    "start = [(0, 0, 'u', 2), (0, 0, 'l', 2)]\n",
    "dist, prev = dijkstra(G, start)"
   ]
  },
  {
   "cell_type": "code",
   "execution_count": 9,
   "id": "71fe26e5",
   "metadata": {},
   "outputs": [
    {
     "data": {
      "text/plain": [
       "936"
      ]
     },
     "execution_count": 9,
     "metadata": {},
     "output_type": "execute_result"
    }
   ],
   "source": [
    "part1 = min(v for k, v in dist.items() if k[0] == len(lines) - 1 and k[1] == len(lines[0]) - 1)\n",
    "part1"
   ]
  },
  {
   "cell_type": "code",
   "execution_count": 10,
   "id": "69962979",
   "metadata": {},
   "outputs": [],
   "source": [
    "G = build_graph(lines, min_steps=4, max_steps=10)\n",
    "start = [(0, 0, 'u', 2), (0, 0, 'l', 2)]\n",
    "dist, prev = dijkstra(G, start)"
   ]
  },
  {
   "cell_type": "code",
   "execution_count": 11,
   "id": "8f845117",
   "metadata": {},
   "outputs": [
    {
     "data": {
      "text/plain": [
       "1157"
      ]
     },
     "execution_count": 11,
     "metadata": {},
     "output_type": "execute_result"
    }
   ],
   "source": [
    "part2 = min(\n",
    "    v for k, v in dist.items()\n",
    "    if k[0] == len(lines) - 1 and k[1] == len(lines[0]) - 1 and k[3] <= 6\n",
    ")\n",
    "part2"
   ]
  },
  {
   "cell_type": "code",
   "execution_count": 12,
   "id": "e1a99e38",
   "metadata": {},
   "outputs": [],
   "source": [
    "# [(k, v) for k, v in dist.items() if k[0] == len(lines) - 1 and k[1] == len(lines[0]) - 1 and k[3] <= 6]"
   ]
  },
  {
   "cell_type": "code",
   "execution_count": 13,
   "id": "e67126e4",
   "metadata": {},
   "outputs": [],
   "source": [
    "# p = (4, 11, 'r', 9)\n",
    "# path_backwards = []\n",
    "# while p in prev:\n",
    "#     path_backwards.append((p, dist[p]))\n",
    "#     p = prev[p]\n",
    "# path = path_backwards[::-1]\n",
    "# path"
   ]
  },
  {
   "cell_type": "code",
   "execution_count": 14,
   "id": "4cec69dd",
   "metadata": {},
   "outputs": [],
   "source": [
    "# G[(0, 1, 'r', 9)]\n",
    "# G[(0, 3, 'r', 8)]\n",
    "# G[(0, 3, 'r', 7)]\n",
    "# G[(0, 4, 'r', 6)]\n",
    "# G[(0, 5, 'r', 5)]\n",
    "# G[(1, 5, 'd', 9)]\n",
    "# G[(2, 5, 'd', 8)]\n",
    "# G[(3, 5, 'd', 7)]\n",
    "# G[(4, 5, 'd', 6)]"
   ]
  },
  {
   "cell_type": "code",
   "execution_count": null,
   "id": "95ad795a",
   "metadata": {},
   "outputs": [],
   "source": []
  }
 ],
 "metadata": {
  "kernelspec": {
   "display_name": "Python 3 (ipykernel)",
   "language": "python",
   "name": "python3"
  },
  "language_info": {
   "codemirror_mode": {
    "name": "ipython",
    "version": 3
   },
   "file_extension": ".py",
   "mimetype": "text/x-python",
   "name": "python",
   "nbconvert_exporter": "python",
   "pygments_lexer": "ipython3",
   "version": "3.10.9"
  }
 },
 "nbformat": 4,
 "nbformat_minor": 5
}
