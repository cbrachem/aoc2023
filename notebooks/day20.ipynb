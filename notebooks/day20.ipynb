{
 "cells": [
  {
   "cell_type": "code",
   "execution_count": 1,
   "id": "5ab725fe",
   "metadata": {},
   "outputs": [],
   "source": [
    "import collections"
   ]
  },
  {
   "cell_type": "code",
   "execution_count": 13,
   "id": "5a651292",
   "metadata": {},
   "outputs": [],
   "source": [
    "def parse_input(filename):\n",
    "    with open(filename) as f:\n",
    "        lines = [line.strip() for line in f]\n",
    "    \n",
    "    module_types = dict()\n",
    "    module_targets = dict()\n",
    "    module_state = dict()\n",
    "    \n",
    "    for line in lines:\n",
    "        src, targets = line.split(\" -> \")\n",
    "        if src == \"broadcaster\":\n",
    "            tpe = 'b'\n",
    "        else:\n",
    "            tpe = src[0]\n",
    "            src = src[1:]\n",
    "        module_types[src] = tpe\n",
    "        module_targets[src] = [t.strip() for t in targets.split(\",\")]\n",
    "    module_types['button'] = 'b'\n",
    "    module_targets['button'] = ['broadcaster']\n",
    "    \n",
    "    return module_types, module_targets"
   ]
  },
  {
   "cell_type": "code",
   "execution_count": 78,
   "id": "53c627c6",
   "metadata": {},
   "outputs": [],
   "source": [
    "# module_types, targets = parse_input(\"../input/day20-sample1.txt\")\n",
    "# module_types, targets = parse_input(\"../input/day20-sample2.txt\")\n",
    "module_types, targets = parse_input(\"../input/day20-input.txt\")"
   ]
  },
  {
   "cell_type": "code",
   "execution_count": 79,
   "id": "e5e958da",
   "metadata": {},
   "outputs": [],
   "source": [
    "# module_types"
   ]
  },
  {
   "cell_type": "code",
   "execution_count": 81,
   "id": "26e027cc",
   "metadata": {},
   "outputs": [],
   "source": [
    "# targets"
   ]
  },
  {
   "cell_type": "code",
   "execution_count": 82,
   "id": "579b8abd",
   "metadata": {},
   "outputs": [],
   "source": [
    "def find_inputs(mod):\n",
    "    return [src for src, ts in targets.items() if mod in ts]\n",
    "\n",
    "state = dict()\n",
    "for mod, tpe in module_types.items():\n",
    "    if tpe == '%': # flipflop\n",
    "        state[mod] = False\n",
    "    elif tpe == '&': # conjunction\n",
    "        state[mod] = {m: False for m in find_inputs(mod)}"
   ]
  },
  {
   "cell_type": "code",
   "execution_count": 84,
   "id": "0d76263b",
   "metadata": {},
   "outputs": [],
   "source": [
    "# state"
   ]
  },
  {
   "cell_type": "code",
   "execution_count": 85,
   "id": "792d8f54",
   "metadata": {},
   "outputs": [],
   "source": [
    "Q = collections.deque()"
   ]
  },
  {
   "cell_type": "code",
   "execution_count": null,
   "id": "a1acd4b9",
   "metadata": {},
   "outputs": [],
   "source": []
  },
  {
   "cell_type": "code",
   "execution_count": 86,
   "id": "1bba399a",
   "metadata": {},
   "outputs": [],
   "source": [
    "def loop(debug = False):\n",
    "    # button push\n",
    "    Q.append(('button', 'broadcaster', False)) # src, target, hi\n",
    "    counter_lo = 0\n",
    "    counter_hi = 0\n",
    "    while Q:\n",
    "        (src, mod, hilo) = Q.popleft()\n",
    "        if hilo:\n",
    "            counter_hi += 1\n",
    "        else:\n",
    "            counter_lo += 1\n",
    "        \n",
    "        if debug:\n",
    "            print(f\"{src} -{'high' if hilo else 'low'}-> {mod}\")\n",
    "\n",
    "        if mod not in module_types:\n",
    "            # simple module with no outputs. end here\n",
    "            continue\n",
    "\n",
    "        tpe = module_types[mod]\n",
    "        pulse = hilo\n",
    "\n",
    "        if tpe == '%': # flipflop\n",
    "            if hilo:\n",
    "                # ignore, send nothing\n",
    "                continue\n",
    "            else:\n",
    "                s = state[mod]\n",
    "                pulse = not s\n",
    "                state[mod] = not s\n",
    "        elif tpe == '&': # conj\n",
    "            mem = state[mod]\n",
    "            mem[src] = hilo\n",
    "            pulse = not all(m for m in mem.values())\n",
    "\n",
    "        # send new pulses\n",
    "        for t in targets[mod]:\n",
    "            Q.append((mod, t, pulse))\n",
    "    return counter_lo, counter_hi"
   ]
  },
  {
   "cell_type": "code",
   "execution_count": 87,
   "id": "d9aae44c",
   "metadata": {},
   "outputs": [
    {
     "data": {
      "text/plain": [
       "788081152"
      ]
     },
     "execution_count": 87,
     "metadata": {},
     "output_type": "execute_result"
    }
   ],
   "source": [
    "def part1():\n",
    "    count_lo, count_hi = 0, 0\n",
    "    for i in range(1000):\n",
    "        lo, hi = loop()\n",
    "        count_lo += lo\n",
    "        count_hi += hi\n",
    "    return count_lo * count_hi\n",
    "part1()"
   ]
  },
  {
   "cell_type": "code",
   "execution_count": 88,
   "id": "35987698",
   "metadata": {},
   "outputs": [
    {
     "ename": "KeyError",
     "evalue": "'rx'",
     "output_type": "error",
     "traceback": [
      "\u001b[0;31m---------------------------------------------------------------------------\u001b[0m",
      "\u001b[0;31mKeyError\u001b[0m                                  Traceback (most recent call last)",
      "Cell \u001b[0;32mIn[88], line 1\u001b[0m\n\u001b[0;32m----> 1\u001b[0m \u001b[43mmodule_types\u001b[49m\u001b[43m[\u001b[49m\u001b[38;5;124;43m'\u001b[39;49m\u001b[38;5;124;43mrx\u001b[39;49m\u001b[38;5;124;43m'\u001b[39;49m\u001b[43m]\u001b[49m\n",
      "\u001b[0;31mKeyError\u001b[0m: 'rx'"
     ]
    }
   ],
   "source": []
  },
  {
   "cell_type": "code",
   "execution_count": null,
   "id": "df0b9d7b",
   "metadata": {},
   "outputs": [],
   "source": []
  }
 ],
 "metadata": {
  "kernelspec": {
   "display_name": "Python 3 (ipykernel)",
   "language": "python",
   "name": "python3"
  },
  "language_info": {
   "codemirror_mode": {
    "name": "ipython",
    "version": 3
   },
   "file_extension": ".py",
   "mimetype": "text/x-python",
   "name": "python",
   "nbconvert_exporter": "python",
   "pygments_lexer": "ipython3",
   "version": "3.10.9"
  }
 },
 "nbformat": 4,
 "nbformat_minor": 5
}
