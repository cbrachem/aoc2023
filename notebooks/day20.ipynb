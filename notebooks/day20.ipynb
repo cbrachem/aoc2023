{
 "cells": [
  {
   "cell_type": "code",
   "execution_count": 1,
   "id": "5ab725fe",
   "metadata": {},
   "outputs": [],
   "source": [
    "import collections"
   ]
  },
  {
   "cell_type": "code",
   "execution_count": 2,
   "id": "5a651292",
   "metadata": {},
   "outputs": [],
   "source": [
    "def parse_input(filename):\n",
    "    with open(filename) as f:\n",
    "        lines = [line.strip() for line in f]\n",
    "    \n",
    "    module_types = dict()\n",
    "    module_targets = dict()\n",
    "    module_state = dict()\n",
    "    \n",
    "    for line in lines:\n",
    "        src, targets = line.split(\" -> \")\n",
    "        if src == \"broadcaster\":\n",
    "            tpe = 'b'\n",
    "        else:\n",
    "            tpe = src[0]\n",
    "            src = src[1:]\n",
    "        module_types[src] = tpe\n",
    "        module_targets[src] = [t.strip() for t in targets.split(\",\")]\n",
    "    module_types['button'] = 'b'\n",
    "    module_targets['button'] = ['broadcaster']\n",
    "    \n",
    "    return module_types, module_targets"
   ]
  },
  {
   "cell_type": "code",
   "execution_count": 3,
   "id": "53c627c6",
   "metadata": {},
   "outputs": [],
   "source": [
    "# module_types, targets = parse_input(\"../input/day20-sample1.txt\")\n",
    "# module_types, targets = parse_input(\"../input/day20-sample2.txt\")\n",
    "module_types, targets = parse_input(\"../input/day20-input.txt\")"
   ]
  },
  {
   "cell_type": "code",
   "execution_count": 4,
   "id": "e5e958da",
   "metadata": {},
   "outputs": [],
   "source": [
    "# module_types"
   ]
  },
  {
   "cell_type": "code",
   "execution_count": 5,
   "id": "26e027cc",
   "metadata": {},
   "outputs": [],
   "source": [
    "# targets"
   ]
  },
  {
   "cell_type": "code",
   "execution_count": 6,
   "id": "579b8abd",
   "metadata": {},
   "outputs": [],
   "source": [
    "def find_inputs(mod):\n",
    "    return [src for src, ts in targets.items() if mod in ts]\n",
    "\n",
    "state = dict()\n",
    "for mod, tpe in module_types.items():\n",
    "    if tpe == '%': # flipflop\n",
    "        state[mod] = False\n",
    "    elif tpe == '&': # conjunction\n",
    "        state[mod] = {m: False for m in find_inputs(mod)}"
   ]
  },
  {
   "cell_type": "code",
   "execution_count": 7,
   "id": "0d76263b",
   "metadata": {},
   "outputs": [],
   "source": [
    "# state"
   ]
  },
  {
   "cell_type": "code",
   "execution_count": 8,
   "id": "792d8f54",
   "metadata": {},
   "outputs": [],
   "source": [
    "Q = collections.deque()"
   ]
  },
  {
   "cell_type": "code",
   "execution_count": 9,
   "id": "a1acd4b9",
   "metadata": {},
   "outputs": [],
   "source": [
    "xmstate = []"
   ]
  },
  {
   "cell_type": "code",
   "execution_count": 10,
   "id": "1bba399a",
   "metadata": {},
   "outputs": [],
   "source": [
    "def loop(debug = False, loopnr = 0):\n",
    "    # button push\n",
    "    Q.append(('button', 'broadcaster', False)) # src, target, hi\n",
    "    counter_lo = 0\n",
    "    counter_hi = 0\n",
    "    while Q:\n",
    "        (src, mod, hilo) = Q.popleft()\n",
    "        if hilo:\n",
    "            counter_hi += 1\n",
    "        else:\n",
    "            counter_lo += 1\n",
    "        \n",
    "        if debug:\n",
    "            print(f\"{src} -{'high' if hilo else 'low'}-> {mod}\")\n",
    "        \n",
    "        if mod == 'rx':\n",
    "            # print(\"heywow it's rx\", loopnr, src, mod, hilo)\n",
    "            if any(state['xm'].values()):\n",
    "                xmstate.append((loopnr, state['xm'].copy()))\n",
    "\n",
    "        if mod not in module_types:\n",
    "            # simple module with no outputs. end here\n",
    "            continue\n",
    "\n",
    "        tpe = module_types[mod]\n",
    "        pulse = hilo\n",
    "\n",
    "        if tpe == '%': # flipflop\n",
    "            if hilo:\n",
    "                # ignore, send nothing\n",
    "                continue\n",
    "            else:\n",
    "                s = state[mod]\n",
    "                pulse = not s\n",
    "                state[mod] = not s\n",
    "        elif tpe == '&': # conj\n",
    "            mem = state[mod]\n",
    "            mem[src] = hilo\n",
    "            pulse = not all(m for m in mem.values())\n",
    "\n",
    "        # send new pulses\n",
    "        for t in targets[mod]:\n",
    "            Q.append((mod, t, pulse))\n",
    "    return counter_lo, counter_hi"
   ]
  },
  {
   "cell_type": "code",
   "execution_count": 11,
   "id": "d9aae44c",
   "metadata": {},
   "outputs": [
    {
     "data": {
      "text/plain": [
       "788081152"
      ]
     },
     "execution_count": 11,
     "metadata": {},
     "output_type": "execute_result"
    }
   ],
   "source": [
    "def part1():\n",
    "    count_lo, count_hi = 0, 0\n",
    "    for i in range(1000):\n",
    "        lo, hi = loop()\n",
    "        count_lo += lo\n",
    "        count_hi += hi\n",
    "    return count_lo * count_hi\n",
    "part1()"
   ]
  },
  {
   "cell_type": "code",
   "execution_count": 12,
   "id": "35987698",
   "metadata": {},
   "outputs": [
    {
     "data": {
      "text/plain": [
       "True"
      ]
     },
     "execution_count": 12,
     "metadata": {},
     "output_type": "execute_result"
    }
   ],
   "source": [
    "'rx' in [t for src, ts in targets.items() for t in ts]"
   ]
  },
  {
   "cell_type": "code",
   "execution_count": 13,
   "id": "df0b9d7b",
   "metadata": {},
   "outputs": [],
   "source": [
    "xmstate = []\n",
    "\n",
    "for i in range(50000):\n",
    "    loop(False, i)"
   ]
  },
  {
   "cell_type": "code",
   "execution_count": 14,
   "id": "fcc3bcc7",
   "metadata": {},
   "outputs": [
    {
     "data": {
      "text/plain": [
       "'&'"
      ]
     },
     "execution_count": 14,
     "metadata": {},
     "output_type": "execute_result"
    }
   ],
   "source": [
    "module_types['xm']"
   ]
  },
  {
   "cell_type": "code",
   "execution_count": 15,
   "id": "3b06825f",
   "metadata": {},
   "outputs": [
    {
     "data": {
      "text/plain": [
       "['ft', 'jz', 'sv', 'ng']"
      ]
     },
     "execution_count": 15,
     "metadata": {},
     "output_type": "execute_result"
    }
   ],
   "source": [
    "find_inputs('xm')"
   ]
  },
  {
   "cell_type": "code",
   "execution_count": 16,
   "id": "6ed12e53",
   "metadata": {},
   "outputs": [],
   "source": [
    "xm_input_loops = {t: sorted(set([loopnr for loopnr, s in xmstate if s[t]])) for t in find_inputs('xm')}"
   ]
  },
  {
   "cell_type": "code",
   "execution_count": 17,
   "id": "f0e24588",
   "metadata": {},
   "outputs": [],
   "source": [
    "cycles = []\n",
    "for mod, idxs in xm_input_loops.items():\n",
    "    cs = [b - a for a, b in zip(idxs[:-1], idxs[1:])]\n",
    "    if not all(c == cs[0] for c in cs):\n",
    "        print(\"uneven cycles for \", mod)\n",
    "    cycles.append(cs[0])"
   ]
  },
  {
   "cell_type": "code",
   "execution_count": 18,
   "id": "d7c31d02",
   "metadata": {},
   "outputs": [],
   "source": [
    "def gcd(a, b):\n",
    "    while b:\n",
    "        a, b = b, a % b\n",
    "    return a\n",
    "\n",
    "def lcm(a, b):\n",
    "    return a * b // gcd(a, b)\n",
    "\n",
    "from functools import reduce"
   ]
  },
  {
   "cell_type": "code",
   "execution_count": 19,
   "id": "c24d56f4",
   "metadata": {},
   "outputs": [
    {
     "data": {
      "text/plain": [
       "224602011344203"
      ]
     },
     "execution_count": 19,
     "metadata": {},
     "output_type": "execute_result"
    }
   ],
   "source": [
    "part2 = reduce(lcm, cycles)\n",
    "part2"
   ]
  },
  {
   "cell_type": "code",
   "execution_count": null,
   "id": "bd49d4f0",
   "metadata": {},
   "outputs": [],
   "source": []
  }
 ],
 "metadata": {
  "kernelspec": {
   "display_name": "Python 3 (ipykernel)",
   "language": "python",
   "name": "python3"
  },
  "language_info": {
   "codemirror_mode": {
    "name": "ipython",
    "version": 3
   },
   "file_extension": ".py",
   "mimetype": "text/x-python",
   "name": "python",
   "nbconvert_exporter": "python",
   "pygments_lexer": "ipython3",
   "version": "3.10.9"
  }
 },
 "nbformat": 4,
 "nbformat_minor": 5
}
