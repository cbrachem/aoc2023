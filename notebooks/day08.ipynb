{
 "cells": [
  {
   "cell_type": "code",
   "execution_count": 1,
   "id": "2e2d5319",
   "metadata": {},
   "outputs": [],
   "source": [
    "import re\n",
    "import itertools"
   ]
  },
  {
   "cell_type": "code",
   "execution_count": 2,
   "id": "9cef8e77",
   "metadata": {},
   "outputs": [],
   "source": [
    "def parse_input(filename):\n",
    "    with open(filename) as f:\n",
    "        lines = [line.strip() for line in f]\n",
    "    directions = lines[0]\n",
    "    \n",
    "    nodes = {}\n",
    "    for line in lines[2:]:\n",
    "        k, l, r = re.findall(\"[A-Z0-9]{3}\", line)\n",
    "        nodes[k] = (l, r)\n",
    "    \n",
    "    return directions, nodes"
   ]
  },
  {
   "cell_type": "code",
   "execution_count": 3,
   "id": "ec5d07d4",
   "metadata": {},
   "outputs": [],
   "source": [
    "# directions, nodes = parse_input(\"../input/day08-sample1.txt\")\n",
    "# directions, nodes = parse_input(\"../input/day08-sample2.txt\")\n",
    "directions, nodes = parse_input(\"../input/day08-input.txt\")"
   ]
  },
  {
   "cell_type": "code",
   "execution_count": 4,
   "id": "80596382",
   "metadata": {},
   "outputs": [],
   "source": [
    "def dir_iterator(directions):\n",
    "    return itertools.cycle(0 if d == 'L' else 1 for d in directions)\n",
    "\n",
    "def take(n, iterable):\n",
    "    return list(itertools.islice(iterable, n))"
   ]
  },
  {
   "cell_type": "code",
   "execution_count": 5,
   "id": "89c6d4f8",
   "metadata": {},
   "outputs": [
    {
     "data": {
      "text/plain": [
       "[0, 1, 0, 1, 0, 0, 1, 0, 1, 0]"
      ]
     },
     "execution_count": 5,
     "metadata": {},
     "output_type": "execute_result"
    }
   ],
   "source": [
    "take(10, dir_iterator(directions))"
   ]
  },
  {
   "cell_type": "code",
   "execution_count": 6,
   "id": "4f00b247",
   "metadata": {},
   "outputs": [],
   "source": [
    "def calc_steps(directions, nodes, start = \"AAA\", is_target = lambda x: x == \"ZZZ\"):\n",
    "    node = start\n",
    "    steps = 0\n",
    "    for d in dir_iterator(directions):\n",
    "        steps += 1\n",
    "        node = nodes[node][d]\n",
    "        if is_target(node):\n",
    "            return steps\n",
    "\n",
    "def part1(directions, nodes):\n",
    "    return calc_steps(directions, nodes)"
   ]
  },
  {
   "cell_type": "code",
   "execution_count": 7,
   "id": "0c6b25b3",
   "metadata": {},
   "outputs": [
    {
     "data": {
      "text/plain": [
       "13207"
      ]
     },
     "execution_count": 7,
     "metadata": {},
     "output_type": "execute_result"
    }
   ],
   "source": [
    "part1(directions, nodes)"
   ]
  },
  {
   "cell_type": "code",
   "execution_count": 8,
   "id": "bd9e6d84",
   "metadata": {},
   "outputs": [],
   "source": [
    "def gcd(a, b):\n",
    "    while b != 0:\n",
    "        a, b = b, a % b\n",
    "    return a\n",
    "\n",
    "def lcm(a, b):\n",
    "    return a * b // gcd(a, b)"
   ]
  },
  {
   "cell_type": "code",
   "execution_count": 9,
   "id": "92b710a2",
   "metadata": {},
   "outputs": [],
   "source": [
    "def part2(directions, nodes):\n",
    "    result = 1\n",
    "    start_nodes = [node for node in nodes.keys() if node.endswith(\"A\")]\n",
    "    for start_node in start_nodes:\n",
    "        steps = calc_steps(\n",
    "            directions, \n",
    "            nodes, \n",
    "            start = start_node, \n",
    "            is_target = lambda x: x.endswith(\"Z\")\n",
    "        )\n",
    "        result = lcm(result, steps)\n",
    "    return result"
   ]
  },
  {
   "cell_type": "code",
   "execution_count": 10,
   "id": "cc3dede4",
   "metadata": {},
   "outputs": [
    {
     "data": {
      "text/plain": [
       "12324145107121"
      ]
     },
     "execution_count": 10,
     "metadata": {},
     "output_type": "execute_result"
    }
   ],
   "source": [
    "part2(directions, nodes)"
   ]
  },
  {
   "cell_type": "code",
   "execution_count": null,
   "id": "116a9648",
   "metadata": {},
   "outputs": [],
   "source": []
  }
 ],
 "metadata": {
  "kernelspec": {
   "display_name": "Python 3 (ipykernel)",
   "language": "python",
   "name": "python3"
  },
  "language_info": {
   "codemirror_mode": {
    "name": "ipython",
    "version": 3
   },
   "file_extension": ".py",
   "mimetype": "text/x-python",
   "name": "python",
   "nbconvert_exporter": "python",
   "pygments_lexer": "ipython3",
   "version": "3.10.9"
  }
 },
 "nbformat": 4,
 "nbformat_minor": 5
}
