{
 "cells": [
  {
   "cell_type": "code",
   "execution_count": 87,
   "id": "49959de3",
   "metadata": {},
   "outputs": [
    {
     "data": {
      "text/plain": [
       "{'divide': 'ignore', 'over': 'warn', 'under': 'ignore', 'invalid': 'warn'}"
      ]
     },
     "execution_count": 87,
     "metadata": {},
     "output_type": "execute_result"
    }
   ],
   "source": [
    "import numpy as np\n",
    "import scipy.linalg\n",
    "np.seterr(divide='ignore')"
   ]
  },
  {
   "cell_type": "code",
   "execution_count": 88,
   "id": "cc9243e4",
   "metadata": {},
   "outputs": [],
   "source": [
    "def read_file(filename):\n",
    "    with open(filename) as f:\n",
    "        lines = [line.strip().replace(\"@\", \",\") for line in f]\n",
    "    return np.loadtxt(lines, dtype=float, delimiter=',')"
   ]
  },
  {
   "cell_type": "code",
   "execution_count": 194,
   "id": "7f1a3df8",
   "metadata": {},
   "outputs": [],
   "source": [
    "# M = read_file(\"../input/day24-sample1.txt\")\n",
    "M = read_file(\"../input/day24-input.txt\")"
   ]
  },
  {
   "cell_type": "code",
   "execution_count": 195,
   "id": "c6f9e99e",
   "metadata": {},
   "outputs": [],
   "source": [
    "N = M.shape[0]\n",
    "# M"
   ]
  },
  {
   "cell_type": "code",
   "execution_count": 196,
   "id": "1a8a0f80",
   "metadata": {},
   "outputs": [],
   "source": [
    "def intersection(x, u, y, v):\n",
    "    a = np.array([u, -v]).T\n",
    "    if np.linalg.det(a) == 0:\n",
    "        return None\n",
    "    b = y - x\n",
    "    t = np.linalg.solve(a, b)\n",
    "    \n",
    "    if np.any(t < 0):\n",
    "        return None\n",
    "    return x + t[0] * u"
   ]
  },
  {
   "cell_type": "code",
   "execution_count": 197,
   "id": "fabee585",
   "metadata": {},
   "outputs": [],
   "source": [
    "def count_intersections(M, xmin, xmax):\n",
    "    cnt = 0\n",
    "    for i in range(N):\n",
    "        y = M[i][:2]\n",
    "        v = M[i][3:5]\n",
    "        for j in range(i + 1, N):\n",
    "            if j == i:\n",
    "                continue\n",
    "            x = M[j,:2]\n",
    "            u = M[j,3:5]\n",
    "            s = intersection(x, u, y, v)\n",
    "            if s is not None and np.all(s >= xmin) and np.all(s <= xmax):\n",
    "                cnt += 1\n",
    "    return cnt"
   ]
  },
  {
   "cell_type": "code",
   "execution_count": 198,
   "id": "63b01f93",
   "metadata": {},
   "outputs": [
    {
     "data": {
      "text/plain": [
       "14672"
      ]
     },
     "execution_count": 198,
     "metadata": {},
     "output_type": "execute_result"
    }
   ],
   "source": [
    "# minval = 7\n",
    "# maxval = 27\n",
    "minval = 200000000000000\n",
    "maxval = 400000000000000\n",
    "\n",
    "xmin = np.ones(2) * minval\n",
    "xmax = np.ones(2) * maxval\n",
    "\n",
    "part1 = count_intersections(M, xmin, xmax)\n",
    "part1"
   ]
  },
  {
   "cell_type": "code",
   "execution_count": null,
   "id": "4ec5e97c",
   "metadata": {},
   "outputs": [],
   "source": []
  },
  {
   "cell_type": "code",
   "execution_count": null,
   "id": "623ec92a",
   "metadata": {},
   "outputs": [],
   "source": []
  },
  {
   "cell_type": "code",
   "execution_count": null,
   "id": "b30845ba",
   "metadata": {},
   "outputs": [],
   "source": []
  },
  {
   "cell_type": "code",
   "execution_count": null,
   "id": "38e088d2",
   "metadata": {},
   "outputs": [],
   "source": []
  },
  {
   "cell_type": "code",
   "execution_count": null,
   "id": "a648ab17",
   "metadata": {},
   "outputs": [],
   "source": []
  }
 ],
 "metadata": {
  "kernelspec": {
   "display_name": "Python 3 (ipykernel)",
   "language": "python",
   "name": "python3"
  },
  "language_info": {
   "codemirror_mode": {
    "name": "ipython",
    "version": 3
   },
   "file_extension": ".py",
   "mimetype": "text/x-python",
   "name": "python",
   "nbconvert_exporter": "python",
   "pygments_lexer": "ipython3",
   "version": "3.10.9"
  }
 },
 "nbformat": 4,
 "nbformat_minor": 5
}
