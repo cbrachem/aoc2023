{
 "cells": [
  {
   "cell_type": "code",
   "execution_count": 1,
   "id": "49959de3",
   "metadata": {},
   "outputs": [],
   "source": [
    "import numpy as np\n",
    "import scipy.linalg\n",
    "np.seterr(divide='ignore')\n",
    "import itertools"
   ]
  },
  {
   "cell_type": "code",
   "execution_count": 2,
   "id": "cc9243e4",
   "metadata": {},
   "outputs": [],
   "source": [
    "def read_file(filename):\n",
    "    with open(filename) as f:\n",
    "        lines = [line.strip().replace(\"@\", \",\") for line in f]\n",
    "    return np.loadtxt(lines, dtype=float, delimiter=',')"
   ]
  },
  {
   "cell_type": "code",
   "execution_count": 72,
   "id": "7f1a3df8",
   "metadata": {},
   "outputs": [],
   "source": [
    "# M = read_file(\"../input/day24-sample1.txt\")\n",
    "M = read_file(\"../input/day24-input.txt\")"
   ]
  },
  {
   "cell_type": "code",
   "execution_count": 73,
   "id": "c6f9e99e",
   "metadata": {},
   "outputs": [],
   "source": [
    "N = M.shape[0]\n",
    "# M"
   ]
  },
  {
   "cell_type": "code",
   "execution_count": 74,
   "id": "1a8a0f80",
   "metadata": {},
   "outputs": [],
   "source": [
    "def intersection(x, u, y, v):\n",
    "    a = np.array([u, -v]).T\n",
    "    if np.linalg.det(a) == 0:\n",
    "        return None\n",
    "    b = y - x\n",
    "    t = np.linalg.solve(a, b)\n",
    "    \n",
    "    if np.any(t < 0):\n",
    "        return None\n",
    "    return x + t[0] * u"
   ]
  },
  {
   "cell_type": "code",
   "execution_count": 75,
   "id": "fabee585",
   "metadata": {},
   "outputs": [],
   "source": [
    "def count_intersections(M, xmin, xmax):\n",
    "    cnt = 0\n",
    "    for i in range(N):\n",
    "        y = M[i][:2]\n",
    "        v = M[i][3:5]\n",
    "        for j in range(i + 1, N):\n",
    "            if j == i:\n",
    "                continue\n",
    "            x = M[j,:2]\n",
    "            u = M[j,3:5]\n",
    "            s = intersection(x, u, y, v)\n",
    "            if s is not None and np.all(s >= xmin) and np.all(s <= xmax):\n",
    "                cnt += 1\n",
    "    return cnt"
   ]
  },
  {
   "cell_type": "code",
   "execution_count": 76,
   "id": "63b01f93",
   "metadata": {},
   "outputs": [
    {
     "data": {
      "text/plain": [
       "14672"
      ]
     },
     "execution_count": 76,
     "metadata": {},
     "output_type": "execute_result"
    }
   ],
   "source": [
    "# minval = 7\n",
    "# maxval = 27\n",
    "minval = 200000000000000\n",
    "maxval = 400000000000000\n",
    "\n",
    "xmin = np.ones(2) * minval\n",
    "xmax = np.ones(2) * maxval\n",
    "\n",
    "part1 = count_intersections(M, xmin, xmax)\n",
    "part1"
   ]
  },
  {
   "cell_type": "code",
   "execution_count": 77,
   "id": "4ec5e97c",
   "metadata": {},
   "outputs": [
    {
     "name": "stdout",
     "output_type": "stream",
     "text": [
      "[[ 0.00000000e+00 -3.80000000e+01 -6.00000000e+00  0.00000000e+00\n",
      "  -6.71179061e+13  1.01235839e+14]\n",
      " [ 3.80000000e+01  0.00000000e+00 -2.19000000e+02  6.71179061e+13\n",
      "   0.00000000e+00 -1.46633652e+14]\n",
      " [ 6.00000000e+00  2.19000000e+02  0.00000000e+00 -1.01235839e+14\n",
      "   1.46633652e+14  0.00000000e+00]\n",
      " [ 0.00000000e+00  3.40000000e+01 -9.60000000e+01  0.00000000e+00\n",
      "   3.70143570e+13 -1.16547275e+14]\n",
      " [-3.40000000e+01  0.00000000e+00 -1.67000000e+02 -3.70143570e+13\n",
      "   0.00000000e+00 -9.57076369e+13]\n",
      " [ 9.60000000e+01  1.67000000e+02  0.00000000e+00  1.16547275e+14\n",
      "   9.57076369e+13  0.00000000e+00]]\n",
      "[-1.83824197e+16 -5.80862984e+16  7.39406422e+16 -1.90168112e+16\n",
      " -6.02265957e+16  7.56026383e+16]\n"
     ]
    },
    {
     "data": {
      "text/plain": [
       "array([ 2.91669803e+14,  1.03597827e+14,  2.51542428e+14, -1.10000000e+01,\n",
       "        3.30000000e+02,  9.10000000e+01])"
      ]
     },
     "execution_count": 77,
     "metadata": {},
     "output_type": "execute_result"
    }
   ],
   "source": [
    "# I need 3 hailstones with linear independent velocities\n",
    "# then, given that xi is the ith hailstone's origin and vi its velocity, \n",
    "# and given that the rock's origin and velocity are y and w,\n",
    "# y × (vi - vj) - w × (xi - xj) = xi × vi + xj × vj\n",
    "# holds.\n",
    "# (6 unknowns means we can solve this using 2 hailstone pairs)\n",
    "#\n",
    "# y[1] * dv[2] - y[2] * dv[1] - w[1] * dx[2] + w[2] * dx[1] \n",
    "#      = xi[1] * vi[2] - xi[2] * vi[1] + xj[1] * vj[2] - xj[2] * vj[1]\n",
    "#\n",
    "# y[2] * dv[0] - y[0] * dv[2] - w[2] * dx[0] + w[0] * dx[2]\n",
    "#      = xi[2] * vi[0] - xi[0] * vi[2] + xj[2] * vj[0] - xj[0] * vj[2]\n",
    "#\n",
    "# y[0] * dv[1] - y[1] * dv[0] - w[0] * dx[1] + w[1] * dx[0]\n",
    "#      = xi[0] * vi[1] - xi[1] * vi[0] + xj[0] * vj[1] - xj[1] * vj[0]\n",
    "#\n",
    "# variables:\n",
    "# y[0] y[1] y[2] v[0] v[1] v[2]\n",
    "#\n",
    "\n",
    "\n",
    "\n",
    "# let's hope the first 3 velocities are linear independent\n",
    "# edit: they are not, we're going with 0, 1, 3\n",
    "if np.linalg.det(M[:,3:6][[0, 1, 3]]) == 0:\n",
    "    print(\"vectors are not independent\")\n",
    "    \n",
    "a = np.zeros((6, 6))\n",
    "b = np.zeros(6)\n",
    "\n",
    "for idx, (hail1, hail2) in enumerate([[0, 1], [0, 2]]):\n",
    "    xi = M[hail1][0:3]\n",
    "    vi = M[hail1][3:6]\n",
    "    xj = M[hail2][0:3]\n",
    "    vj = M[hail2][3:6]\n",
    "    \n",
    "    dx = xi - xj\n",
    "    dv = vi - vj\n",
    "\n",
    "    for i in range(3):\n",
    "        j = (i + 1) % 3\n",
    "        k = (i + 2) % 3\n",
    "        a[3 * idx + i][j] = -dv[k]\n",
    "        a[3 * idx + i][k] = dv[j]\n",
    "        a[3 * idx + i][3 + j] = dx[k]\n",
    "        a[3 * idx + i][3 + k] = -dx[j]\n",
    "        b[3 * idx + i] = -(xi[j] * vi[k] - xi[k] * vi[j] - xj[j] * vj[k] + xj[k] * vj[j])\n",
    "print(a)\n",
    "print(b)\n",
    "np.linalg.solve(a, b)"
   ]
  },
  {
   "cell_type": "code",
   "execution_count": 78,
   "id": "623ec92a",
   "metadata": {},
   "outputs": [
    {
     "data": {
      "text/plain": [
       "646810057104753"
      ]
     },
     "execution_count": 78,
     "metadata": {},
     "output_type": "execute_result"
    }
   ],
   "source": [
    "part2 = int(np.round(np.sum(np.linalg.solve(a, b)[0:3])))\n",
    "part2"
   ]
  },
  {
   "cell_type": "code",
   "execution_count": 60,
   "id": "15d838d4",
   "metadata": {},
   "outputs": [
    {
     "data": {
      "text/plain": [
       "array([3, 0, 0])"
      ]
     },
     "execution_count": 60,
     "metadata": {},
     "output_type": "execute_result"
    }
   ],
   "source": [
    "# example because something's wrong:\n",
    "M2 = np.array([\n",
    "    [1, 1, 0, 0, -1, 0],\n",
    "    [2, 2, 2, 0, -1, -1],\n",
    "    [3, 0, 3, 0, 0, -1]\n",
    "])\n",
    "\n",
    "M2[2,:3] + 3 * M2[2,3:]"
   ]
  },
  {
   "cell_type": "code",
   "execution_count": 61,
   "id": "9ef4b4fe",
   "metadata": {},
   "outputs": [
    {
     "data": {
      "text/plain": [
       "array([1, 0, 0])"
      ]
     },
     "execution_count": 61,
     "metadata": {},
     "output_type": "execute_result"
    }
   ],
   "source": [
    "y = np.array([0, 0, 0])\n",
    "w = np.array([1, 0, 0])\n",
    "\n",
    "y + 1 * w"
   ]
  },
  {
   "cell_type": "code",
   "execution_count": 62,
   "id": "36ed2d8a",
   "metadata": {},
   "outputs": [
    {
     "data": {
      "text/plain": [
       "array([0, 0, 0])"
      ]
     },
     "execution_count": 62,
     "metadata": {},
     "output_type": "execute_result"
    }
   ],
   "source": [
    "# (p0 - p1) x (v0 - v1) = 0\n",
    "# p0 x v0 - p0 x v1 - p1 x v0 + p1 x v1 = 0 | same for i = 2\n",
    "# p0 x v0 - p0 x v2 - p2 x v0 + p2 x v2 = 0 | subtract\n",
    "# p0 x v1 - p0 x v2 + p1 x v0 - p2 x v0 - p1 x v1 + p2 x v2 = 0\n",
    "# p0 x v1 - p0 x v2 + p1 x v0 - p2 x v0 = p1 x v1 - p2 x v2\n",
    "# p0 x (v1 - v2) - v0 x (p1 - p2) = p1 x v1 - p2 x v2\n",
    "\n",
    "M2 = np.array([\n",
    "    [1, 1, 0, 0, -1, 0],\n",
    "    [2, 2, 2, 0, -1, -1],\n",
    "    [3, 0, 3, 0, 0, -1]\n",
    "])\n",
    "\n",
    "p1 = M2[0][:3]\n",
    "p2 = M2[1][:3]\n",
    "v1 = M2[0][3:]\n",
    "v2 = M2[1][3:]\n",
    "p0 = y\n",
    "v0 = w\n",
    "\n",
    "dv = v1 - v2\n",
    "dp = p1 - p2\n",
    "\n",
    "np.cross(p0, dv) - np.cross(v0, dp) - (np.cross(p1, v1) - np.cross(p2, v2))"
   ]
  },
  {
   "cell_type": "code",
   "execution_count": 63,
   "id": "1eb2ba2d",
   "metadata": {},
   "outputs": [
    {
     "data": {
      "text/plain": [
       "(array([[ 0., -1.,  0.,  0., -2.,  1.],\n",
       "        [ 1.,  0.,  0.,  2.,  0., -1.],\n",
       "        [ 0.,  0.,  0., -1.,  1.,  0.]]),\n",
       " array([ 0, -2,  1]))"
      ]
     },
     "execution_count": 63,
     "metadata": {},
     "output_type": "execute_result"
    }
   ],
   "source": [
    "a = np.zeros([3, 6])\n",
    "b = np.zeros(3)\n",
    "\n",
    "a[0][0] = 0\n",
    "a[0][1] = -dv[2]\n",
    "a[0][2] = dv[1]\n",
    "a[1][0] = dv[2]\n",
    "a[1][1] = 0\n",
    "a[1][2] = -dv[0]\n",
    "a[2][0] = -dv[1]\n",
    "a[2][1] = dv[0]\n",
    "a[2][2] = 0\n",
    "\n",
    "a[0][3 + 0] = 0\n",
    "a[0][3 + 1] = dp[2]\n",
    "a[0][3 + 2] = -dp[1]\n",
    "a[1][3 + 0] = -dp[2]\n",
    "a[1][3 + 1] = 0\n",
    "a[1][3 + 2] = dp[0]\n",
    "a[2][3 + 0] = dp[1]\n",
    "a[2][3 + 1] = -dp[0]\n",
    "a[2][3 + 2] = 0\n",
    "\n",
    "b = np.cross(p1, v1) - np.cross(p2, v2)\n",
    "\n",
    "a, b"
   ]
  },
  {
   "cell_type": "code",
   "execution_count": 64,
   "id": "902cbbf5",
   "metadata": {},
   "outputs": [],
   "source": [
    "# I had a wrong minus sign when calculating b"
   ]
  },
  {
   "cell_type": "code",
   "execution_count": null,
   "id": "09c6e044",
   "metadata": {},
   "outputs": [],
   "source": []
  }
 ],
 "metadata": {
  "kernelspec": {
   "display_name": "Python 3 (ipykernel)",
   "language": "python",
   "name": "python3"
  },
  "language_info": {
   "codemirror_mode": {
    "name": "ipython",
    "version": 3
   },
   "file_extension": ".py",
   "mimetype": "text/x-python",
   "name": "python",
   "nbconvert_exporter": "python",
   "pygments_lexer": "ipython3",
   "version": "3.10.9"
  }
 },
 "nbformat": 4,
 "nbformat_minor": 5
}
