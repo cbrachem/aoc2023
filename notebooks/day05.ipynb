{
 "cells": [
  {
   "cell_type": "code",
   "execution_count": 2,
   "id": "5d2f423a",
   "metadata": {},
   "outputs": [],
   "source": [
    "def parse_input(filename):\n",
    "    with open(filename) as f:\n",
    "        lines = [line.rstrip() for line in f]\n",
    "    \n",
    "    seeds = [int(s) for s in lines[0].split(\":\")[1].strip().split(\" \")]\n",
    "    \n",
    "    maps = []\n",
    "    for line in lines[2:]:\n",
    "        if \"map:\" in line: # start of mapping\n",
    "            m = []\n",
    "        elif len(line) == 0:\n",
    "            maps.append(sorted(m, key=lambda x: x[0]))\n",
    "        else:\n",
    "            b, a, l = [int(x) for x in line.split(\" \")]\n",
    "            m.append((a, b, l))\n",
    "    maps.append(sorted(m, key=lambda x: x[0]))\n",
    "    \n",
    "    return (seeds, maps)"
   ]
  },
  {
   "cell_type": "code",
   "execution_count": 3,
   "id": "51e53c76",
   "metadata": {},
   "outputs": [],
   "source": [
    "# seeds, maps = parse_input(\"../input/day05-sample1.txt\")\n",
    "seeds, maps = parse_input(\"../input/day05-input.txt\")"
   ]
  },
  {
   "cell_type": "code",
   "execution_count": 4,
   "id": "f8f20ca0",
   "metadata": {},
   "outputs": [],
   "source": [
    "def mapping(m, x):\n",
    "    for a, b, l in m:\n",
    "        diff = x - a\n",
    "        if diff >= 0 and diff < l:\n",
    "            return b + diff\n",
    "        elif diff < 0:\n",
    "            return x\n",
    "    return x"
   ]
  },
  {
   "cell_type": "code",
   "execution_count": 5,
   "id": "5d0540d9",
   "metadata": {},
   "outputs": [
    {
     "data": {
      "text/plain": [
       "53"
      ]
     },
     "execution_count": 5,
     "metadata": {},
     "output_type": "execute_result"
    }
   ],
   "source": [
    "mapping(maps[0], 53)"
   ]
  },
  {
   "cell_type": "code",
   "execution_count": 6,
   "id": "61abf4ed",
   "metadata": {},
   "outputs": [],
   "source": [
    "def seed_location(maps, seed):\n",
    "    x = seed\n",
    "    for m in maps:\n",
    "        x = mapping(m, x)\n",
    "    return x"
   ]
  },
  {
   "cell_type": "code",
   "execution_count": 7,
   "id": "ee23480c",
   "metadata": {},
   "outputs": [],
   "source": [
    "def part1(seeds, maps):\n",
    "    return min(seed_location(maps, seed) for seed in seeds)"
   ]
  },
  {
   "cell_type": "code",
   "execution_count": 8,
   "id": "991481e5",
   "metadata": {},
   "outputs": [
    {
     "data": {
      "text/plain": [
       "324724204"
      ]
     },
     "execution_count": 8,
     "metadata": {},
     "output_type": "execute_result"
    }
   ],
   "source": [
    "part1(seeds, maps)"
   ]
  },
  {
   "cell_type": "code",
   "execution_count": 9,
   "id": "a7ce137b",
   "metadata": {},
   "outputs": [],
   "source": [
    "def map_interval(mapping, intv, acc = None):\n",
    "    if not acc:\n",
    "        acc = []\n",
    "    lower, size = intv\n",
    "    if size == 0:\n",
    "        return acc\n",
    "    \n",
    "    for lower_src, lower_dst, l in mapping:\n",
    "        diff = lower - lower_src\n",
    "        if diff >= 0 and diff < l:\n",
    "            size_here = min(l - diff, size)\n",
    "            mapped_lower = lower_dst + diff\n",
    "            acc.append((mapped_lower, size_here))\n",
    "            return map_interval(mapping, (lower + size_here, size - size_here), acc)\n",
    "        elif diff < 0:\n",
    "            size_here = min(lower_src - lower, size)\n",
    "            mapped_lower = lower\n",
    "            acc.append((mapped_lower, size_here))\n",
    "            return map_interval(mapping, (lower + size_here, size - size_here), acc)\n",
    "    \n",
    "    acc.append(intv)\n",
    "    return acc"
   ]
  },
  {
   "cell_type": "code",
   "execution_count": 10,
   "id": "65c1e349",
   "metadata": {},
   "outputs": [],
   "source": [
    "seed_intervals = list(zip(seeds[::2], seeds[1::2]))"
   ]
  },
  {
   "cell_type": "code",
   "execution_count": 11,
   "id": "f1e68619",
   "metadata": {},
   "outputs": [],
   "source": [
    "def seed_location_intervals(seed_intervals, maps):\n",
    "    intvs = seed_intervals\n",
    "    for m in maps:\n",
    "        intvs = [mapped_intv for intv in intvs for mapped_intv in map_interval(m, intv)]\n",
    "    return sorted(intvs, key=lambda x: x[0])"
   ]
  },
  {
   "cell_type": "code",
   "execution_count": 13,
   "id": "61043a27",
   "metadata": {},
   "outputs": [],
   "source": [
    "part2 = seed_location_intervals(seed_intervals, maps)[0][0]"
   ]
  },
  {
   "cell_type": "code",
   "execution_count": 14,
   "id": "09a194aa",
   "metadata": {},
   "outputs": [
    {
     "data": {
      "text/plain": [
       "104070862"
      ]
     },
     "execution_count": 14,
     "metadata": {},
     "output_type": "execute_result"
    }
   ],
   "source": [
    "part2"
   ]
  },
  {
   "cell_type": "code",
   "execution_count": null,
   "id": "5b70b197",
   "metadata": {},
   "outputs": [],
   "source": []
  }
 ],
 "metadata": {
  "kernelspec": {
   "display_name": "Python 3 (ipykernel)",
   "language": "python",
   "name": "python3"
  },
  "language_info": {
   "codemirror_mode": {
    "name": "ipython",
    "version": 3
   },
   "file_extension": ".py",
   "mimetype": "text/x-python",
   "name": "python",
   "nbconvert_exporter": "python",
   "pygments_lexer": "ipython3",
   "version": "3.10.9"
  }
 },
 "nbformat": 4,
 "nbformat_minor": 5
}
