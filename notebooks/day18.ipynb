{
 "cells": [
  {
   "cell_type": "code",
   "execution_count": 1,
   "id": "ffa54227",
   "metadata": {},
   "outputs": [],
   "source": [
    "import numpy as np\n",
    "import operator"
   ]
  },
  {
   "cell_type": "code",
   "execution_count": 2,
   "id": "86feee1a",
   "metadata": {},
   "outputs": [],
   "source": [
    "def read_file(filename):\n",
    "    with open(filename) as f:\n",
    "        return [line.strip() for line in f]"
   ]
  },
  {
   "cell_type": "code",
   "execution_count": 3,
   "id": "61b2cc19",
   "metadata": {},
   "outputs": [],
   "source": [
    "def parse(line):\n",
    "    direction, distance, color = line.split(\" \")\n",
    "    di = int(distance)\n",
    "    cdi = int(color[2:7], 16)\n",
    "    cdirection = int(color[7])\n",
    "    yield [(-di, 0), (di, 0), (0, -di), (0, di)]['UDLR'.index(direction)]\n",
    "    yield [(0, cdi), (cdi, 0), (0, -cdi), (-cdi, 0)][cdirection]"
   ]
  },
  {
   "cell_type": "code",
   "execution_count": 4,
   "id": "badec346",
   "metadata": {},
   "outputs": [],
   "source": [
    "# lines = read_file(\"../input/day18-sample1.txt\")\n",
    "lines = read_file(\"../input/day18-input.txt\")"
   ]
  },
  {
   "cell_type": "code",
   "execution_count": 5,
   "id": "987da5cb",
   "metadata": {},
   "outputs": [],
   "source": [
    "plan, color_plan = zip(*[parse(line) for line in lines])"
   ]
  },
  {
   "cell_type": "code",
   "execution_count": 6,
   "id": "50a2f0fe",
   "metadata": {},
   "outputs": [],
   "source": [
    "# plan"
   ]
  },
  {
   "cell_type": "code",
   "execution_count": 7,
   "id": "24e691d3",
   "metadata": {},
   "outputs": [],
   "source": [
    "def scan(f, init, arr):\n",
    "    yield init\n",
    "    acc = init\n",
    "    for x in arr:\n",
    "        acc = f(acc, x)\n",
    "        yield acc\n",
    "\n",
    "def sum_el(*args):\n",
    "    return tuple(map(sum, zip(*args)))"
   ]
  },
  {
   "cell_type": "code",
   "execution_count": 8,
   "id": "102dbdc5",
   "metadata": {},
   "outputs": [],
   "source": [
    "# shoelace formula\n",
    "# https://en.wikipedia.org/wiki/Shoelace_formula\n",
    "# https://stackoverflow.com/a/58515054/1071311\n",
    "def shoelace(x_y):\n",
    "    x_y = np.array(x_y, dtype=int)\n",
    "    x_y = x_y.reshape(-1,2)\n",
    "\n",
    "    x = x_y[:,0]\n",
    "    y = x_y[:,1]\n",
    "\n",
    "    S1 = np.sum(x*np.roll(y,-1))\n",
    "    S2 = np.sum(y*np.roll(x,-1))\n",
    "\n",
    "    area = np.absolute(S1 - S2) / 2\n",
    "\n",
    "    return area"
   ]
  },
  {
   "cell_type": "code",
   "execution_count": 9,
   "id": "e9dcd5c3",
   "metadata": {},
   "outputs": [],
   "source": [
    "def loop_len(plan):\n",
    "    return sum(abs(a) + abs(b) for a,b in plan)"
   ]
  },
  {
   "cell_type": "code",
   "execution_count": 10,
   "id": "d3bbd558",
   "metadata": {},
   "outputs": [],
   "source": [
    "def area(plan):\n",
    "    points = list(scan(sum_el, (0, 0), plan))\n",
    "    # Pick's theorem\n",
    "    return int(shoelace(points) + loop_len(plan) // 2 + 1)"
   ]
  },
  {
   "cell_type": "code",
   "execution_count": 11,
   "id": "95158edb",
   "metadata": {},
   "outputs": [
    {
     "data": {
      "text/plain": [
       "35244"
      ]
     },
     "execution_count": 11,
     "metadata": {},
     "output_type": "execute_result"
    }
   ],
   "source": [
    "part1 = area(plan)\n",
    "part1"
   ]
  },
  {
   "cell_type": "code",
   "execution_count": 12,
   "id": "9aa26504",
   "metadata": {},
   "outputs": [
    {
     "data": {
      "text/plain": [
       "85070763635666"
      ]
     },
     "execution_count": 12,
     "metadata": {},
     "output_type": "execute_result"
    }
   ],
   "source": [
    "part2 = area(color_plan)\n",
    "part2"
   ]
  },
  {
   "cell_type": "code",
   "execution_count": null,
   "id": "caa8b664",
   "metadata": {},
   "outputs": [],
   "source": []
  }
 ],
 "metadata": {
  "kernelspec": {
   "display_name": "Python 3 (ipykernel)",
   "language": "python",
   "name": "python3"
  },
  "language_info": {
   "codemirror_mode": {
    "name": "ipython",
    "version": 3
   },
   "file_extension": ".py",
   "mimetype": "text/x-python",
   "name": "python",
   "nbconvert_exporter": "python",
   "pygments_lexer": "ipython3",
   "version": "3.10.9"
  }
 },
 "nbformat": 4,
 "nbformat_minor": 5
}
