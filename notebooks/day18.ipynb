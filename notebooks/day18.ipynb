{
 "cells": [
  {
   "cell_type": "code",
   "execution_count": 10,
   "id": "b1075957",
   "metadata": {},
   "outputs": [],
   "source": [
    "import numpy as np\n",
    "import operator"
   ]
  },
  {
   "cell_type": "code",
   "execution_count": 1,
   "id": "91f8e1a4",
   "metadata": {},
   "outputs": [],
   "source": [
    "def read_file(filename):\n",
    "    with open(filename) as f:\n",
    "        return [line.strip() for line in f]"
   ]
  },
  {
   "cell_type": "code",
   "execution_count": 63,
   "id": "3ef6f143",
   "metadata": {},
   "outputs": [],
   "source": [
    "def parse(line):\n",
    "    direction, distance, color = line.split(\" \")\n",
    "    di = int(distance)\n",
    "    cdi = int(color[2:7], 16)\n",
    "    cdirection = int(color[7])\n",
    "    yield [(-di, 0), (di, 0), (0, -di), (0, di)]['UDLR'.index(direction)]\n",
    "    yield [(0, cdi), (cdi, 0), (0, -cdi), (-cdi, 0)][cdirection]"
   ]
  },
  {
   "cell_type": "code",
   "execution_count": 64,
   "id": "438563a8",
   "metadata": {},
   "outputs": [],
   "source": [
    "# lines = read_file(\"../input/day18-sample1.txt\")\n",
    "lines = read_file(\"../input/day18-input.txt\")"
   ]
  },
  {
   "cell_type": "code",
   "execution_count": 65,
   "id": "16b6fad6",
   "metadata": {},
   "outputs": [],
   "source": [
    "plan, color_plan = zip(*[parse(line) for line in lines])"
   ]
  },
  {
   "cell_type": "code",
   "execution_count": 66,
   "id": "9bd82b85",
   "metadata": {},
   "outputs": [],
   "source": [
    "# plan"
   ]
  },
  {
   "cell_type": "code",
   "execution_count": 67,
   "id": "2f54f543",
   "metadata": {},
   "outputs": [],
   "source": [
    "def scan(f, init, arr):\n",
    "    yield init\n",
    "    acc = init\n",
    "    for x in arr:\n",
    "        acc = f(acc, x)\n",
    "        yield acc\n",
    "\n",
    "def sum_el(*args):\n",
    "    return tuple(map(sum, zip(*args)))"
   ]
  },
  {
   "cell_type": "code",
   "execution_count": 50,
   "id": "9b15613d",
   "metadata": {},
   "outputs": [],
   "source": [
    "# shoelace formula\n",
    "# https://en.wikipedia.org/wiki/Shoelace_formula\n",
    "# https://stackoverflow.com/a/58515054/1071311\n",
    "def shoelace(x_y):\n",
    "    x_y = np.array(x_y, dtype=int)\n",
    "    x_y = x_y.reshape(-1,2)\n",
    "\n",
    "    x = x_y[:,0]\n",
    "    y = x_y[:,1]\n",
    "\n",
    "    S1 = np.sum(x*np.roll(y,-1))\n",
    "    S2 = np.sum(y*np.roll(x,-1))\n",
    "\n",
    "    area = np.absolute(S1 - S2) / 2\n",
    "\n",
    "    return area"
   ]
  },
  {
   "cell_type": "code",
   "execution_count": 68,
   "id": "1763bf30",
   "metadata": {},
   "outputs": [],
   "source": [
    "def loop_len(plan):\n",
    "    return sum(abs(a) + abs(b) for a,b in plan)"
   ]
  },
  {
   "cell_type": "code",
   "execution_count": null,
   "id": "9cabc11f",
   "metadata": {},
   "outputs": [],
   "source": [
    "def area(plan):\n",
    "    points = list(scan(sum_el, (0, 0), plan))\n",
    "    return int(shoelace(points) + loop_len(plan) // 2 + 1)"
   ]
  },
  {
   "cell_type": "code",
   "execution_count": 53,
   "id": "a4be7bdf",
   "metadata": {},
   "outputs": [
    {
     "data": {
      "text/plain": [
       "35244"
      ]
     },
     "execution_count": 53,
     "metadata": {},
     "output_type": "execute_result"
    }
   ],
   "source": [
    "# Pick's theorem\n",
    "part1 = \n",
    "int(part1)"
   ]
  },
  {
   "cell_type": "code",
   "execution_count": 26,
   "id": "ce7d90db",
   "metadata": {},
   "outputs": [
    {
     "data": {
      "text/plain": [
       "3"
      ]
     },
     "execution_count": 26,
     "metadata": {},
     "output_type": "execute_result"
    }
   ],
   "source": []
  },
  {
   "cell_type": "code",
   "execution_count": null,
   "id": "fad911c6",
   "metadata": {},
   "outputs": [],
   "source": []
  }
 ],
 "metadata": {
  "kernelspec": {
   "display_name": "Python 3 (ipykernel)",
   "language": "python",
   "name": "python3"
  },
  "language_info": {
   "codemirror_mode": {
    "name": "ipython",
    "version": 3
   },
   "file_extension": ".py",
   "mimetype": "text/x-python",
   "name": "python",
   "nbconvert_exporter": "python",
   "pygments_lexer": "ipython3",
   "version": "3.10.9"
  }
 },
 "nbformat": 4,
 "nbformat_minor": 5
}
