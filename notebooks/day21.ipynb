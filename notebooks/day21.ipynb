{
 "cells": [
  {
   "cell_type": "code",
   "execution_count": 1,
   "id": "3f1fe012",
   "metadata": {},
   "outputs": [],
   "source": [
    "import collections\n",
    "import numpy as np"
   ]
  },
  {
   "cell_type": "code",
   "execution_count": 2,
   "id": "ab465b48",
   "metadata": {},
   "outputs": [],
   "source": [
    "def parse_input(filename):\n",
    "    with open(filename) as f:\n",
    "        lines = [line.strip() for line in f]\n",
    "        \n",
    "    plots = set()\n",
    "    \n",
    "    height = len(lines)\n",
    "    \n",
    "    for i, line in enumerate(lines):\n",
    "        j = line.find(\"S\")\n",
    "        if j != -1:\n",
    "            starting_position = (i,j)\n",
    "            plots.add(starting_position)\n",
    "        \n",
    "        plots |= set((i,j) for j,ch in enumerate(line) if ch == \".\")\n",
    "        \n",
    "    return (starting_position, height, plots)"
   ]
  },
  {
   "cell_type": "code",
   "execution_count": 3,
   "id": "a69a9a06",
   "metadata": {},
   "outputs": [],
   "source": [
    "# example doesn't work with part 2\n",
    "# starting_position, size, plots = parse_input(\"input/day21-sample1.txt\")\n",
    "starting_position, size, plots = parse_input(\"../input/day21-input.txt\")"
   ]
  },
  {
   "cell_type": "code",
   "execution_count": 4,
   "id": "bd3cf9a6",
   "metadata": {},
   "outputs": [],
   "source": [
    "def neigh(pos):\n",
    "    i,j = pos\n",
    "    return [(i - 1, j), (i + 1, j), (i, j - 1), (i, j + 1)]"
   ]
  },
  {
   "cell_type": "code",
   "execution_count": 5,
   "id": "361c4bdf",
   "metadata": {},
   "outputs": [],
   "source": [
    "def distance_bfs(plots, start):\n",
    "    seen = set([start])\n",
    "    distances = {start: 0}\n",
    "    q = collections.deque([start])\n",
    "    while q:\n",
    "        p = q.popleft()\n",
    "        ns = neigh(p)\n",
    "        for n in ns:\n",
    "            if n not in seen and n in plots:\n",
    "                seen.add(n)\n",
    "                distances[n] = distances[p] + 1\n",
    "                q.append(n)\n",
    "    return distances\n",
    "\n",
    "def reachable(plots, start, steps):\n",
    "    return sum(1 for p, d in distance_bfs(plots, start).items() if d % 2 == steps % 2 and d <= steps)"
   ]
  },
  {
   "cell_type": "code",
   "execution_count": 6,
   "id": "89a1d61b",
   "metadata": {},
   "outputs": [
    {
     "data": {
      "text/plain": [
       "3830"
      ]
     },
     "execution_count": 6,
     "metadata": {},
     "output_type": "execute_result"
    }
   ],
   "source": [
    "def part1(plots, start):\n",
    "    return reachable(plots, start, 64)\n",
    "\n",
    "part1(plots, starting_position)"
   ]
  },
  {
   "cell_type": "code",
   "execution_count": 7,
   "id": "6cd26eec",
   "metadata": {},
   "outputs": [
    {
     "data": {
      "text/plain": [
       "(130, 260, 260, 260, 260, 260, 195, 195, 195, 195)"
      ]
     },
     "execution_count": 7,
     "metadata": {},
     "output_type": "execute_result"
    }
   ],
   "source": [
    "# how long does it take to go anywhere?\n",
    "(\n",
    "    max(distance_bfs(plots, starting_position).values()),\n",
    "    max(distance_bfs(plots, (0, 0)).values()),\n",
    "    max(distance_bfs(plots, (0, 130)).values()),\n",
    "    max(distance_bfs(plots, (130, 0)).values()),\n",
    "    max(distance_bfs(plots, (130, 130)).values()),\n",
    "    max(distance_bfs(plots, (0, 0)).values()),\n",
    "    max(distance_bfs(plots, (0, 65)).values()),\n",
    "    max(distance_bfs(plots, (130, 65)).values()),\n",
    "    max(distance_bfs(plots, (65, 0)).values()),\n",
    "    max(distance_bfs(plots, (65, 130)).values())\n",
    ")"
   ]
  },
  {
   "cell_type": "code",
   "execution_count": 8,
   "id": "a914376b",
   "metadata": {},
   "outputs": [
    {
     "data": {
      "text/plain": [
       "(40924885401, 40925290000, 7759, 7808, 637087163925555)"
      ]
     },
     "execution_count": 8,
     "metadata": {},
     "output_type": "execute_result"
    }
   ],
   "source": [
    "# part 2\n",
    "\n",
    "# this is nonsense without some drawings\n",
    "\n",
    "steps = 26501365 # 202300 * size + size // 2\n",
    "\n",
    "grid_size = steps // size - 1\n",
    "\n",
    "odd = (grid_size + (1 - grid_size % 2)) ** 2\n",
    "even = (grid_size + (grid_size % 2)) ** 2\n",
    "\n",
    "full_odd = reachable(plots, starting_position, 2 * size + 1)\n",
    "full_even = reachable(plots, starting_position, 2 * size)\n",
    "\n",
    "corners = [\n",
    "    reachable(plots, (size - 1, size // 2), size - 1),\n",
    "    reachable(plots, (0, size // 2), size - 1),\n",
    "    reachable(plots, (size // 2, size - 1), size - 1),\n",
    "    reachable(plots, (size // 2, 0), size - 1)\n",
    "]\n",
    "\n",
    "small_partial = [\n",
    "    reachable(plots, (0, 0), size // 2 - 1),\n",
    "    reachable(plots, (size - 1, size - 1), size // 2 - 1),\n",
    "    reachable(plots, (size - 1, 0), size // 2 - 1),\n",
    "    reachable(plots, (0, size - 1), size // 2 - 1)\n",
    "]\n",
    "\n",
    "big_partial = [\n",
    "    reachable(plots, (0, 0), 3 * size // 2 - 1),\n",
    "    reachable(plots, (size - 1, size - 1), 3 * size // 2 - 1),\n",
    "    reachable(plots, (size - 1, 0), 3 * size // 2 - 1),\n",
    "    reachable(plots, (0, size - 1), 3 * size // 2 - 1)\n",
    "]\n",
    "\n",
    "def part2():\n",
    "    return (\n",
    "        odd * full_odd +\n",
    "        even * full_even +\n",
    "        sum(corners) +\n",
    "        (grid_size + 1) * sum(small_partial) +\n",
    "        (grid_size) * sum(big_partial)\n",
    "    )\n",
    "\n",
    "odd, even, full_odd, full_even, part2()"
   ]
  },
  {
   "cell_type": "code",
   "execution_count": 9,
   "id": "22177fa2",
   "metadata": {},
   "outputs": [
    {
     "data": {
      "text/plain": [
       "637087163925555"
      ]
     },
     "execution_count": 9,
     "metadata": {},
     "output_type": "execute_result"
    }
   ],
   "source": [
    "part2()"
   ]
  },
  {
   "cell_type": "code",
   "execution_count": null,
   "id": "d8ff81fc",
   "metadata": {},
   "outputs": [],
   "source": []
  }
 ],
 "metadata": {
  "kernelspec": {
   "display_name": "Python 3 (ipykernel)",
   "language": "python",
   "name": "python3"
  },
  "language_info": {
   "codemirror_mode": {
    "name": "ipython",
    "version": 3
   },
   "file_extension": ".py",
   "mimetype": "text/x-python",
   "name": "python",
   "nbconvert_exporter": "python",
   "pygments_lexer": "ipython3",
   "version": "3.10.9"
  }
 },
 "nbformat": 4,
 "nbformat_minor": 5
}
