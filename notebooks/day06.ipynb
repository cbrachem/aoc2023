{
 "cells": [
  {
   "cell_type": "code",
   "execution_count": 1,
   "id": "1c32c305",
   "metadata": {},
   "outputs": [],
   "source": [
    "import re\n",
    "import math"
   ]
  },
  {
   "cell_type": "code",
   "execution_count": 2,
   "id": "84d24f18",
   "metadata": {},
   "outputs": [],
   "source": [
    "def parse_input(filename):\n",
    "    with open(filename) as f:\n",
    "        lines = [line.rstrip() for line in f]\n",
    "    \n",
    "    times = map(int, re.findall(\"\\d+\", lines[0]))\n",
    "    distances = map(int, re.findall(\"\\d+\", lines[1]))\n",
    "    \n",
    "    return list(zip(times, distances))"
   ]
  },
  {
   "cell_type": "code",
   "execution_count": 3,
   "id": "b52013f1",
   "metadata": {},
   "outputs": [],
   "source": [
    "# races = parse_input(\"../input/day06-sample1.txt\")\n",
    "races = parse_input(\"../input/day06-input.txt\")"
   ]
  },
  {
   "cell_type": "code",
   "execution_count": 4,
   "id": "e03de34c",
   "metadata": {},
   "outputs": [
    {
     "data": {
      "text/plain": [
       "[(62, 553), (64, 1010), (91, 1473), (90, 1074)]"
      ]
     },
     "execution_count": 4,
     "metadata": {},
     "output_type": "execute_result"
    }
   ],
   "source": [
    "races"
   ]
  },
  {
   "cell_type": "code",
   "execution_count": 5,
   "id": "c6eb202e",
   "metadata": {},
   "outputs": [],
   "source": [
    "def ways(race):\n",
    "    time, distance = race\n",
    "    distance += 1e-5\n",
    "    q = time * time - 4 * distance\n",
    "    if q <= 0:\n",
    "        return 0\n",
    "    else:\n",
    "        sq = math.sqrt(q)\n",
    "        lo = math.ceil(0.5 * (time - sq))\n",
    "        hi = math.floor(0.5 * (time + sq))\n",
    "        return hi - lo + 1"
   ]
  },
  {
   "cell_type": "code",
   "execution_count": 6,
   "id": "bf355734",
   "metadata": {},
   "outputs": [],
   "source": [
    "def product(lst):\n",
    "    p = 1\n",
    "    for i in lst:\n",
    "        p *= i\n",
    "    return p"
   ]
  },
  {
   "cell_type": "code",
   "execution_count": 7,
   "id": "dcaa2cc4",
   "metadata": {},
   "outputs": [],
   "source": [
    "def part1(races):\n",
    "    return product(map(ways, races))"
   ]
  },
  {
   "cell_type": "code",
   "execution_count": 8,
   "id": "467395e7",
   "metadata": {},
   "outputs": [
    {
     "data": {
      "text/plain": [
       "840336"
      ]
     },
     "execution_count": 8,
     "metadata": {},
     "output_type": "execute_result"
    }
   ],
   "source": [
    "part1(races)"
   ]
  },
  {
   "cell_type": "code",
   "execution_count": 9,
   "id": "f8d5981e",
   "metadata": {},
   "outputs": [],
   "source": [
    "def part2(races):\n",
    "    times, distances = list(zip(*races))\n",
    "    large_race = int(\"\".join(map(str, times))), int(\"\".join(map(str, distances)))\n",
    "    return ways(large_race)"
   ]
  },
  {
   "cell_type": "code",
   "execution_count": 10,
   "id": "f8671c56",
   "metadata": {},
   "outputs": [
    {
     "data": {
      "text/plain": [
       "41382569"
      ]
     },
     "execution_count": 10,
     "metadata": {},
     "output_type": "execute_result"
    }
   ],
   "source": [
    "part2(races)"
   ]
  }
 ],
 "metadata": {
  "kernelspec": {
   "display_name": "Python 3 (ipykernel)",
   "language": "python",
   "name": "python3"
  },
  "language_info": {
   "codemirror_mode": {
    "name": "ipython",
    "version": 3
   },
   "file_extension": ".py",
   "mimetype": "text/x-python",
   "name": "python",
   "nbconvert_exporter": "python",
   "pygments_lexer": "ipython3",
   "version": "3.10.9"
  }
 },
 "nbformat": 4,
 "nbformat_minor": 5
}
