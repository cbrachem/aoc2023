{
 "cells": [
  {
   "cell_type": "code",
   "execution_count": 1,
   "id": "6a57fec3",
   "metadata": {},
   "outputs": [],
   "source": [
    "from collections import namedtuple, defaultdict\n",
    "import re"
   ]
  },
  {
   "cell_type": "code",
   "execution_count": 2,
   "id": "74000f41",
   "metadata": {},
   "outputs": [],
   "source": [
    "Brick = namedtuple('Brick', ['x0', 'y0', 'z0', 'x1', 'y1', 'z1'])"
   ]
  },
  {
   "cell_type": "code",
   "execution_count": 3,
   "id": "d27005ed",
   "metadata": {},
   "outputs": [],
   "source": [
    "def parse_input(filename):\n",
    "    with open(filename) as f:\n",
    "        return sorted([Brick(*map(int, re.findall(\"\\d+\", line))) for line in f], key=lambda x: x.z0)"
   ]
  },
  {
   "cell_type": "code",
   "execution_count": 4,
   "id": "7091d901",
   "metadata": {},
   "outputs": [],
   "source": [
    "# bricks = parse_input(\"../input/day22-sample1.txt\")\n",
    "bricks = parse_input(\"../input/day22-input.txt\")"
   ]
  },
  {
   "cell_type": "code",
   "execution_count": 5,
   "id": "cff223ba",
   "metadata": {},
   "outputs": [],
   "source": [
    "# all bricks have x,y within [0, 9]\n",
    "# max(b.x1 for b in bricks)"
   ]
  },
  {
   "cell_type": "code",
   "execution_count": 6,
   "id": "6d1fe38f",
   "metadata": {},
   "outputs": [],
   "source": [
    "# not needed anymore\n",
    "\n",
    "# def overlaps(a: Brick, b: Brick) -> bool:\n",
    "#     return (\n",
    "#         a.x0 <= b.x1 and a.x1 >= b.x0 and\n",
    "#         a.y0 <= b.y1 and a.y1 >= b.y0 and\n",
    "#         a.z0 <= b.z1 and a.z1 >= b.z0\n",
    "#     )\n",
    "\n",
    "def fall(a: Brick, n: int = 1) -> Brick:\n",
    "    return a._replace(z0 = a.z0 - n, z1 = a.z1 - n)"
   ]
  },
  {
   "cell_type": "code",
   "execution_count": 7,
   "id": "54fdbcb2",
   "metadata": {},
   "outputs": [],
   "source": [
    "# takes way too long\n",
    "\n",
    "# def drop(bricks, skip = None):\n",
    "#     N = len(bricks)\n",
    "#     falls = 0\n",
    "#     for i, b in enumerate(bricks):\n",
    "#         if skip == i:\n",
    "#             continue\n",
    "#         c = b\n",
    "#         overl = []\n",
    "#         while (c.z0 > 0) and not overl:\n",
    "#             c = fall(c)\n",
    "#             falls += 1\n",
    "#             overl = [j for j in range(N) if j != i and j != skip and overlaps(c, bricks[j])]\n",
    "#         if overl:\n",
    "#             c = fall(c, -1)\n",
    "#             falls -= 1\n",
    "#         bricks[i] = c\n",
    "#     return falls > 0"
   ]
  },
  {
   "cell_type": "code",
   "execution_count": 8,
   "id": "c6ebdad9",
   "metadata": {},
   "outputs": [],
   "source": [
    "def drop(bricks, skip = None):\n",
    "    # max z for each (x, y). starts at 0\n",
    "    tops = defaultdict(int)\n",
    "    falls = 0\n",
    "    \n",
    "    for i, b in enumerate(bricks):\n",
    "        if skip == i:\n",
    "            continue\n",
    "        \n",
    "        points = [(x, y) for x in range(b.x0, b.x1 + 1) for y in range(b.y0, b.y1 + 1)]\n",
    "        top = max(tops[p] for p in points)\n",
    "        for p in points:\n",
    "            tops[p] = top + b.z1 - b.z0 + 1\n",
    "        \n",
    "        dr = b.z0 - top\n",
    "        if dr:\n",
    "            falls += 1\n",
    "            bricks[i] = fall(bricks[i], dr)\n",
    "    return falls"
   ]
  },
  {
   "cell_type": "code",
   "execution_count": 9,
   "id": "f33178f1",
   "metadata": {},
   "outputs": [
    {
     "data": {
      "text/plain": [
       "1218"
      ]
     },
     "execution_count": 9,
     "metadata": {},
     "output_type": "execute_result"
    }
   ],
   "source": [
    "drop(bricks)"
   ]
  },
  {
   "cell_type": "code",
   "execution_count": 10,
   "id": "f262bb55",
   "metadata": {},
   "outputs": [
    {
     "data": {
      "text/plain": [
       "416"
      ]
     },
     "execution_count": 10,
     "metadata": {},
     "output_type": "execute_result"
    }
   ],
   "source": [
    "part1 = sum(not drop(bricks.copy(), i) for i in range(len(bricks)))\n",
    "part1"
   ]
  },
  {
   "cell_type": "code",
   "execution_count": 11,
   "id": "19a4eafe",
   "metadata": {},
   "outputs": [
    {
     "data": {
      "text/plain": [
       "60963"
      ]
     },
     "execution_count": 11,
     "metadata": {},
     "output_type": "execute_result"
    }
   ],
   "source": [
    "part2 = sum(drop(bricks.copy(), i) for i in range(len(bricks)))\n",
    "part2"
   ]
  },
  {
   "cell_type": "code",
   "execution_count": null,
   "id": "15b24bf7",
   "metadata": {},
   "outputs": [],
   "source": []
  }
 ],
 "metadata": {
  "kernelspec": {
   "display_name": "Python 3 (ipykernel)",
   "language": "python",
   "name": "python3"
  },
  "language_info": {
   "codemirror_mode": {
    "name": "ipython",
    "version": 3
   },
   "file_extension": ".py",
   "mimetype": "text/x-python",
   "name": "python",
   "nbconvert_exporter": "python",
   "pygments_lexer": "ipython3",
   "version": "3.10.9"
  }
 },
 "nbformat": 4,
 "nbformat_minor": 5
}
