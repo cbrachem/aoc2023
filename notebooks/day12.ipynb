{
 "cells": [
  {
   "cell_type": "code",
   "execution_count": 54,
   "id": "3aedf91e",
   "metadata": {},
   "outputs": [],
   "source": [
    "import re\n",
    "from functools import cache"
   ]
  },
  {
   "cell_type": "code",
   "execution_count": 41,
   "id": "a5548ee8",
   "metadata": {},
   "outputs": [],
   "source": [
    "with open(\"../input/day12-sample1.txt\") as f:\n",
    "    inp_sample1 = [line.rstrip() for line in f]\n",
    "\n",
    "# with open(\"../input/01-sample2.txt\") as f:\n",
    "#     inp_sample2 = [line.rstrip() for line in f]\n",
    "\n",
    "with open(\"../input/day12-input.txt\") as f:\n",
    "    inp = [line.rstrip() for line in f]"
   ]
  },
  {
   "cell_type": "code",
   "execution_count": 42,
   "id": "f8b0573c",
   "metadata": {},
   "outputs": [],
   "source": [
    "# inp = inp_sample1\n",
    "# inp"
   ]
  },
  {
   "cell_type": "code",
   "execution_count": 43,
   "id": "03d14368",
   "metadata": {},
   "outputs": [],
   "source": [
    "def parse_line(line):\n",
    "    springs, r = line.split(' ')\n",
    "    damaged = [int(n) for n in r.split(',')]\n",
    "    return (springs, damaged)\n",
    "\n",
    "records = [parse_line(line) for line in inp]"
   ]
  },
  {
   "cell_type": "code",
   "execution_count": 44,
   "id": "966cf44d",
   "metadata": {},
   "outputs": [
    {
     "data": {
      "text/plain": [
       "False"
      ]
     },
     "execution_count": 44,
     "metadata": {},
     "output_type": "execute_result"
    }
   ],
   "source": [
    "def is_final(record):\n",
    "    return \"?\" not in record[0]\n",
    "\n",
    "is_final(records[0])"
   ]
  },
  {
   "cell_type": "code",
   "execution_count": 45,
   "id": "2959d95f",
   "metadata": {},
   "outputs": [],
   "source": [
    "def replace_symbols(springs):\n",
    "    return springs.replace('?', 'u').replace('.', 'o').replace('#', 'd')\n",
    "\n",
    "def build_regex(damaged_groups):\n",
    "    return \"[uo]*\" + (\"[uo]+\".join(f\"[ud]{{{n}}}\" for n in damaged_groups)) + \"[uo]*\"\n",
    "\n",
    "def is_valid(record):\n",
    "    text = replace_symbols(record[0])\n",
    "    regex = build_regex(record[1])\n",
    "    return re.fullmatch(regex, text)"
   ]
  },
  {
   "cell_type": "code",
   "execution_count": 46,
   "id": "1e4188da",
   "metadata": {},
   "outputs": [],
   "source": [
    "def count_arrangements(record):\n",
    "    candidates = deque()\n",
    "    candidates.append(record)\n",
    "    arrangements = 0\n",
    "\n",
    "    while len(candidates) > 0:\n",
    "        c = candidates.popleft()\n",
    "\n",
    "        if is_valid(c):\n",
    "            if is_final(c):\n",
    "                arrangements += 1\n",
    "            else:\n",
    "                v1 = (c[0].replace('?', '.', 1), c[1])\n",
    "                v2 = (c[0].replace('?', '#', 1), c[1])\n",
    "                candidates.append(v1)\n",
    "                candidates.append(v2)\n",
    "    return arrangements"
   ]
  },
  {
   "cell_type": "code",
   "execution_count": 55,
   "id": "63b5dd9a",
   "metadata": {},
   "outputs": [],
   "source": [
    "@cache\n",
    "def count_arrangements2(springs, defects):\n",
    "    if not defects:\n",
    "        # still leftover damaged? -> invalid, otherwise -> valid\n",
    "        if \"#\" in springs:\n",
    "            return 0\n",
    "        else:\n",
    "            return 1\n",
    "    if not springs:\n",
    "        # still leftover defects? -> invalid\n",
    "        if defects:\n",
    "            return 0\n",
    "        else:\n",
    "            return 1\n",
    "    \n",
    "    if springs[0] == \".\":\n",
    "        return count_arrangements2(springs[1:], defects)\n",
    "    elif springs[0] in \"#?\":\n",
    "        result = 0\n",
    "        \n",
    "        if springs[0] == \"?\":\n",
    "            result += count_arrangements2(springs[1:], defects)\n",
    "        \n",
    "        if (defects[0] <= len(springs)) and \".\" not in springs[:defects[0]]:\n",
    "            # only if ? or all fixed\n",
    "            if defects[0] == len(springs) or springs[defects[0]] != '#':\n",
    "                result += count_arrangements2(springs[defects[0] + 1:], tuple(defects[1:]))\n",
    "        return result\n",
    "    else:\n",
    "        return 0"
   ]
  },
  {
   "cell_type": "code",
   "execution_count": 65,
   "id": "e5e23357",
   "metadata": {},
   "outputs": [
    {
     "data": {
      "text/plain": [
       "7251"
      ]
     },
     "execution_count": 65,
     "metadata": {},
     "output_type": "execute_result"
    }
   ],
   "source": [
    "# part 1\n",
    "part1 = sum(count_arrangements2(r[0], tuple(r[1])) for r in records)\n",
    "# sum(count_arrangements(r) for r in records)\n",
    "part1"
   ]
  },
  {
   "cell_type": "code",
   "execution_count": 57,
   "id": "0d3721bd",
   "metadata": {},
   "outputs": [],
   "source": [
    "def times5(record):\n",
    "    return (\"?\".join([record[0]] * 5), record[1] * 5)"
   ]
  },
  {
   "cell_type": "code",
   "execution_count": 58,
   "id": "9854651c",
   "metadata": {},
   "outputs": [],
   "source": [
    "# part 2\n",
    "records5 = [times5(record) for record in records]\n",
    "# sum(count_arrangements(r) for r in records5)"
   ]
  },
  {
   "cell_type": "code",
   "execution_count": 64,
   "id": "16527df4",
   "metadata": {},
   "outputs": [
    {
     "name": "stdout",
     "output_type": "stream",
     "text": [
      "         137 function calls (75 primitive calls) in 0.000 seconds\n",
      "\n",
      "   Ordered by: standard name\n",
      "\n",
      "   ncalls  tottime  percall  cumtime  percall filename:lineno(function)\n",
      "     63/1    0.000    0.000    0.000    0.000 3468598372.py:1(count_arrangements2)\n",
      "        1    0.000    0.000    0.000    0.000 <string>:1(<module>)\n",
      "        1    0.000    0.000    0.000    0.000 {built-in method builtins.exec}\n",
      "       71    0.000    0.000    0.000    0.000 {built-in method builtins.len}\n",
      "        1    0.000    0.000    0.000    0.000 {method 'disable' of '_lsprof.Profiler' objects}\n",
      "\n",
      "\n"
     ]
    }
   ],
   "source": [
    "cProfile.run('count_arrangements2(records5[1][0], tuple(records[1][1]))')"
   ]
  },
  {
   "cell_type": "code",
   "execution_count": 66,
   "id": "33e0177f",
   "metadata": {},
   "outputs": [
    {
     "data": {
      "text/plain": [
       "2128386729962"
      ]
     },
     "execution_count": 66,
     "metadata": {},
     "output_type": "execute_result"
    }
   ],
   "source": [
    "part2 = sum(count_arrangements2(r[0], tuple(r[1])) for r in records5)\n",
    "part2"
   ]
  },
  {
   "cell_type": "code",
   "execution_count": null,
   "id": "614c06d3",
   "metadata": {},
   "outputs": [],
   "source": []
  }
 ],
 "metadata": {
  "kernelspec": {
   "display_name": "Python 3 (ipykernel)",
   "language": "python",
   "name": "python3"
  },
  "language_info": {
   "codemirror_mode": {
    "name": "ipython",
    "version": 3
   },
   "file_extension": ".py",
   "mimetype": "text/x-python",
   "name": "python",
   "nbconvert_exporter": "python",
   "pygments_lexer": "ipython3",
   "version": "3.10.9"
  }
 },
 "nbformat": 4,
 "nbformat_minor": 5
}
