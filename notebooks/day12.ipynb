{
 "cells": [
  {
   "cell_type": "code",
   "execution_count": 116,
   "id": "3aedf91e",
   "metadata": {},
   "outputs": [],
   "source": [
    "import re\n",
    "import cProfile\n",
    "from collections import deque\n",
    "from functools import cache"
   ]
  },
  {
   "cell_type": "code",
   "execution_count": 94,
   "id": "a5548ee8",
   "metadata": {},
   "outputs": [],
   "source": [
    "with open(\"../input/12-sample1.txt\") as f:\n",
    "    inp_sample1 = [line.rstrip() for line in f]\n",
    "\n",
    "# with open(\"../input/01-sample2.txt\") as f:\n",
    "#     inp_sample2 = [line.rstrip() for line in f]\n",
    "\n",
    "with open(\"../input/12.txt\") as f:\n",
    "    inp = [line.rstrip() for line in f]"
   ]
  },
  {
   "cell_type": "code",
   "execution_count": 95,
   "id": "f8b0573c",
   "metadata": {},
   "outputs": [
    {
     "data": {
      "text/plain": [
       "['???.### 1,1,3',\n",
       " '.??..??...?##. 1,1,3',\n",
       " '?#?#?#?#?#?#?#? 1,3,1,6',\n",
       " '????.#...#... 4,1,1',\n",
       " '????.######..#####. 1,6,5',\n",
       " '?###???????? 3,2,1']"
      ]
     },
     "execution_count": 95,
     "metadata": {},
     "output_type": "execute_result"
    }
   ],
   "source": [
    "inp = inp_sample1\n",
    "inp"
   ]
  },
  {
   "cell_type": "code",
   "execution_count": 96,
   "id": "03d14368",
   "metadata": {},
   "outputs": [],
   "source": [
    "def parse_line(line):\n",
    "    springs, r = line.split(' ')\n",
    "    damaged = [int(n) for n in r.split(',')]\n",
    "    return (springs, damaged)\n",
    "\n",
    "records = [parse_line(line) for line in inp]"
   ]
  },
  {
   "cell_type": "code",
   "execution_count": 97,
   "id": "966cf44d",
   "metadata": {},
   "outputs": [
    {
     "data": {
      "text/plain": [
       "False"
      ]
     },
     "execution_count": 97,
     "metadata": {},
     "output_type": "execute_result"
    }
   ],
   "source": [
    "def is_final(record):\n",
    "    return \"?\" not in record[0]\n",
    "\n",
    "is_final(records[0])"
   ]
  },
  {
   "cell_type": "code",
   "execution_count": 117,
   "id": "2959d95f",
   "metadata": {},
   "outputs": [],
   "source": [
    "@cache\n",
    "def replace_symbols(springs):\n",
    "    return springs.replace('?', 'u').replace('.', 'o').replace('#', 'd')\n",
    "\n",
    "@cache\n",
    "def build_regex(damaged_groups):\n",
    "    return \"[uo]*\" + (\"[uo]+\".join(f\"[ud]{{{n}}}\" for n in damaged_groups)) + \"[uo]*\"\n",
    "\n",
    "def is_valid(record):\n",
    "    text = replace_symbols(record[0])\n",
    "    regex = build_regex(record[1])\n",
    "    return re.fullmatch(regex, text)"
   ]
  },
  {
   "cell_type": "code",
   "execution_count": 118,
   "id": "1e4188da",
   "metadata": {},
   "outputs": [],
   "source": [
    "def count_arrangements(record):\n",
    "    candidates = deque()\n",
    "    candidates.append(record)\n",
    "    arrangements = 0\n",
    "\n",
    "    while len(candidates) > 0:\n",
    "        c = candidates.popleft()\n",
    "\n",
    "        if is_valid(c):\n",
    "            if is_final(c):\n",
    "                arrangements += 1\n",
    "            else:\n",
    "                v1 = (c[0].replace('?', '.', 1), c[1])\n",
    "                v2 = (c[0].replace('?', '#', 1), c[1])\n",
    "                candidates.append(v1)\n",
    "                candidates.append(v2)\n",
    "    return arrangements"
   ]
  },
  {
   "cell_type": "code",
   "execution_count": 120,
   "id": "e5e23357",
   "metadata": {},
   "outputs": [
    {
     "ename": "TypeError",
     "evalue": "unhashable type: 'list'",
     "output_type": "error",
     "traceback": [
      "\u001b[0;31m---------------------------------------------------------------------------\u001b[0m",
      "\u001b[0;31mTypeError\u001b[0m                                 Traceback (most recent call last)",
      "Cell \u001b[0;32mIn[120], line 2\u001b[0m\n\u001b[1;32m      1\u001b[0m \u001b[38;5;66;03m# part 1\u001b[39;00m\n\u001b[0;32m----> 2\u001b[0m \u001b[38;5;28;43msum\u001b[39;49m\u001b[43m(\u001b[49m\u001b[43mcount_arrangements\u001b[49m\u001b[43m(\u001b[49m\u001b[43mr\u001b[49m\u001b[43m)\u001b[49m\u001b[43m \u001b[49m\u001b[38;5;28;43;01mfor\u001b[39;49;00m\u001b[43m \u001b[49m\u001b[43mr\u001b[49m\u001b[43m \u001b[49m\u001b[38;5;129;43;01min\u001b[39;49;00m\u001b[43m \u001b[49m\u001b[43mrecords\u001b[49m\u001b[43m)\u001b[49m\n",
      "Cell \u001b[0;32mIn[120], line 2\u001b[0m, in \u001b[0;36m<genexpr>\u001b[0;34m(.0)\u001b[0m\n\u001b[1;32m      1\u001b[0m \u001b[38;5;66;03m# part 1\u001b[39;00m\n\u001b[0;32m----> 2\u001b[0m \u001b[38;5;28msum\u001b[39m(\u001b[43mcount_arrangements\u001b[49m\u001b[43m(\u001b[49m\u001b[43mr\u001b[49m\u001b[43m)\u001b[49m \u001b[38;5;28;01mfor\u001b[39;00m r \u001b[38;5;129;01min\u001b[39;00m records)\n",
      "Cell \u001b[0;32mIn[118], line 9\u001b[0m, in \u001b[0;36mcount_arrangements\u001b[0;34m(record)\u001b[0m\n\u001b[1;32m      6\u001b[0m \u001b[38;5;28;01mwhile\u001b[39;00m \u001b[38;5;28mlen\u001b[39m(candidates) \u001b[38;5;241m>\u001b[39m \u001b[38;5;241m0\u001b[39m:\n\u001b[1;32m      7\u001b[0m     c \u001b[38;5;241m=\u001b[39m candidates\u001b[38;5;241m.\u001b[39mpopleft()\n\u001b[0;32m----> 9\u001b[0m     \u001b[38;5;28;01mif\u001b[39;00m \u001b[43mis_valid\u001b[49m\u001b[43m(\u001b[49m\u001b[43mc\u001b[49m\u001b[43m)\u001b[49m:\n\u001b[1;32m     10\u001b[0m         \u001b[38;5;28;01mif\u001b[39;00m is_final(c):\n\u001b[1;32m     11\u001b[0m             arrangements \u001b[38;5;241m+\u001b[39m\u001b[38;5;241m=\u001b[39m \u001b[38;5;241m1\u001b[39m\n",
      "Cell \u001b[0;32mIn[117], line 11\u001b[0m, in \u001b[0;36mis_valid\u001b[0;34m(record)\u001b[0m\n\u001b[1;32m      9\u001b[0m \u001b[38;5;28;01mdef\u001b[39;00m \u001b[38;5;21mis_valid\u001b[39m(record):\n\u001b[1;32m     10\u001b[0m     text \u001b[38;5;241m=\u001b[39m replace_symbols(record[\u001b[38;5;241m0\u001b[39m])\n\u001b[0;32m---> 11\u001b[0m     regex \u001b[38;5;241m=\u001b[39m \u001b[43mbuild_regex\u001b[49m\u001b[43m(\u001b[49m\u001b[43mrecord\u001b[49m\u001b[43m[\u001b[49m\u001b[38;5;241;43m1\u001b[39;49m\u001b[43m]\u001b[49m\u001b[43m)\u001b[49m\n\u001b[1;32m     12\u001b[0m     \u001b[38;5;28;01mreturn\u001b[39;00m re\u001b[38;5;241m.\u001b[39mfullmatch(regex, text)\n",
      "\u001b[0;31mTypeError\u001b[0m: unhashable type: 'list'"
     ]
    }
   ],
   "source": [
    "# part 1\n",
    "sum(count_arrangements(r) for r in records)"
   ]
  },
  {
   "cell_type": "code",
   "execution_count": 113,
   "id": "0d3721bd",
   "metadata": {},
   "outputs": [],
   "source": [
    "def times5(record):\n",
    "    return (\"?\".join([record[0]] * 5), record[1] * 5)"
   ]
  },
  {
   "cell_type": "code",
   "execution_count": 114,
   "id": "9854651c",
   "metadata": {},
   "outputs": [],
   "source": [
    "# part 2\n",
    "records5 = [times5(record) for record in records]\n",
    "# sum(count_arrangements(r) for r in records5)"
   ]
  },
  {
   "cell_type": "code",
   "execution_count": 119,
   "id": "16527df4",
   "metadata": {},
   "outputs": [
    {
     "name": "stdout",
     "output_type": "stream",
     "text": [
      "         12 function calls in 0.000 seconds\n",
      "\n",
      "   Ordered by: standard name\n",
      "\n",
      "   ncalls  tottime  percall  cumtime  percall filename:lineno(function)\n",
      "        1    0.000    0.000    0.000    0.000 378766805.py:1(replace_symbols)\n",
      "        1    0.000    0.000    0.000    0.000 378766805.py:9(is_valid)\n",
      "        1    0.000    0.000    0.000    0.000 806726214.py:1(count_arrangements)\n",
      "        1    0.000    0.000    0.000    0.000 <string>:1(<module>)\n",
      "        1    0.000    0.000    0.000    0.000 {built-in method builtins.exec}\n",
      "        1    0.000    0.000    0.000    0.000 {built-in method builtins.len}\n",
      "        1    0.000    0.000    0.000    0.000 {method 'append' of 'collections.deque' objects}\n",
      "        1    0.000    0.000    0.000    0.000 {method 'disable' of '_lsprof.Profiler' objects}\n",
      "        1    0.000    0.000    0.000    0.000 {method 'popleft' of 'collections.deque' objects}\n",
      "        3    0.000    0.000    0.000    0.000 {method 'replace' of 'str' objects}\n",
      "\n",
      "\n"
     ]
    },
    {
     "ename": "TypeError",
     "evalue": "unhashable type: 'list'",
     "output_type": "error",
     "traceback": [
      "\u001b[0;31m---------------------------------------------------------------------------\u001b[0m",
      "\u001b[0;31mTypeError\u001b[0m                                 Traceback (most recent call last)",
      "Cell \u001b[0;32mIn[119], line 1\u001b[0m\n\u001b[0;32m----> 1\u001b[0m \u001b[43mcProfile\u001b[49m\u001b[38;5;241;43m.\u001b[39;49m\u001b[43mrun\u001b[49m\u001b[43m(\u001b[49m\u001b[38;5;124;43m'\u001b[39;49m\u001b[38;5;124;43mcount_arrangements(records5[1])\u001b[39;49m\u001b[38;5;124;43m'\u001b[39;49m\u001b[43m)\u001b[49m\n",
      "File \u001b[0;32m/opt/homebrew/Caskroom/miniforge/base/lib/python3.10/cProfile.py:16\u001b[0m, in \u001b[0;36mrun\u001b[0;34m(statement, filename, sort)\u001b[0m\n\u001b[1;32m     15\u001b[0m \u001b[38;5;28;01mdef\u001b[39;00m \u001b[38;5;21mrun\u001b[39m(statement, filename\u001b[38;5;241m=\u001b[39m\u001b[38;5;28;01mNone\u001b[39;00m, sort\u001b[38;5;241m=\u001b[39m\u001b[38;5;241m-\u001b[39m\u001b[38;5;241m1\u001b[39m):\n\u001b[0;32m---> 16\u001b[0m     \u001b[38;5;28;01mreturn\u001b[39;00m \u001b[43m_pyprofile\u001b[49m\u001b[38;5;241;43m.\u001b[39;49m\u001b[43m_Utils\u001b[49m\u001b[43m(\u001b[49m\u001b[43mProfile\u001b[49m\u001b[43m)\u001b[49m\u001b[38;5;241;43m.\u001b[39;49m\u001b[43mrun\u001b[49m\u001b[43m(\u001b[49m\u001b[43mstatement\u001b[49m\u001b[43m,\u001b[49m\u001b[43m \u001b[49m\u001b[43mfilename\u001b[49m\u001b[43m,\u001b[49m\u001b[43m \u001b[49m\u001b[43msort\u001b[49m\u001b[43m)\u001b[49m\n",
      "File \u001b[0;32m/opt/homebrew/Caskroom/miniforge/base/lib/python3.10/profile.py:53\u001b[0m, in \u001b[0;36m_Utils.run\u001b[0;34m(self, statement, filename, sort)\u001b[0m\n\u001b[1;32m     51\u001b[0m prof \u001b[38;5;241m=\u001b[39m \u001b[38;5;28mself\u001b[39m\u001b[38;5;241m.\u001b[39mprofiler()\n\u001b[1;32m     52\u001b[0m \u001b[38;5;28;01mtry\u001b[39;00m:\n\u001b[0;32m---> 53\u001b[0m     \u001b[43mprof\u001b[49m\u001b[38;5;241;43m.\u001b[39;49m\u001b[43mrun\u001b[49m\u001b[43m(\u001b[49m\u001b[43mstatement\u001b[49m\u001b[43m)\u001b[49m\n\u001b[1;32m     54\u001b[0m \u001b[38;5;28;01mexcept\u001b[39;00m \u001b[38;5;167;01mSystemExit\u001b[39;00m:\n\u001b[1;32m     55\u001b[0m     \u001b[38;5;28;01mpass\u001b[39;00m\n",
      "File \u001b[0;32m/opt/homebrew/Caskroom/miniforge/base/lib/python3.10/cProfile.py:95\u001b[0m, in \u001b[0;36mProfile.run\u001b[0;34m(self, cmd)\u001b[0m\n\u001b[1;32m     93\u001b[0m \u001b[38;5;28;01mimport\u001b[39;00m \u001b[38;5;21;01m__main__\u001b[39;00m\n\u001b[1;32m     94\u001b[0m \u001b[38;5;28mdict\u001b[39m \u001b[38;5;241m=\u001b[39m __main__\u001b[38;5;241m.\u001b[39m\u001b[38;5;18m__dict__\u001b[39m\n\u001b[0;32m---> 95\u001b[0m \u001b[38;5;28;01mreturn\u001b[39;00m \u001b[38;5;28;43mself\u001b[39;49m\u001b[38;5;241;43m.\u001b[39;49m\u001b[43mrunctx\u001b[49m\u001b[43m(\u001b[49m\u001b[43mcmd\u001b[49m\u001b[43m,\u001b[49m\u001b[43m \u001b[49m\u001b[38;5;28;43mdict\u001b[39;49m\u001b[43m,\u001b[49m\u001b[43m \u001b[49m\u001b[38;5;28;43mdict\u001b[39;49m\u001b[43m)\u001b[49m\n",
      "File \u001b[0;32m/opt/homebrew/Caskroom/miniforge/base/lib/python3.10/cProfile.py:100\u001b[0m, in \u001b[0;36mProfile.runctx\u001b[0;34m(self, cmd, globals, locals)\u001b[0m\n\u001b[1;32m     98\u001b[0m \u001b[38;5;28mself\u001b[39m\u001b[38;5;241m.\u001b[39menable()\n\u001b[1;32m     99\u001b[0m \u001b[38;5;28;01mtry\u001b[39;00m:\n\u001b[0;32m--> 100\u001b[0m     \u001b[43mexec\u001b[49m\u001b[43m(\u001b[49m\u001b[43mcmd\u001b[49m\u001b[43m,\u001b[49m\u001b[43m \u001b[49m\u001b[38;5;28;43mglobals\u001b[39;49m\u001b[43m,\u001b[49m\u001b[43m \u001b[49m\u001b[38;5;28;43mlocals\u001b[39;49m\u001b[43m)\u001b[49m\n\u001b[1;32m    101\u001b[0m \u001b[38;5;28;01mfinally\u001b[39;00m:\n\u001b[1;32m    102\u001b[0m     \u001b[38;5;28mself\u001b[39m\u001b[38;5;241m.\u001b[39mdisable()\n",
      "File \u001b[0;32m<string>:1\u001b[0m\n",
      "Cell \u001b[0;32mIn[118], line 9\u001b[0m, in \u001b[0;36mcount_arrangements\u001b[0;34m(record)\u001b[0m\n\u001b[1;32m      6\u001b[0m \u001b[38;5;28;01mwhile\u001b[39;00m \u001b[38;5;28mlen\u001b[39m(candidates) \u001b[38;5;241m>\u001b[39m \u001b[38;5;241m0\u001b[39m:\n\u001b[1;32m      7\u001b[0m     c \u001b[38;5;241m=\u001b[39m candidates\u001b[38;5;241m.\u001b[39mpopleft()\n\u001b[0;32m----> 9\u001b[0m     \u001b[38;5;28;01mif\u001b[39;00m \u001b[43mis_valid\u001b[49m\u001b[43m(\u001b[49m\u001b[43mc\u001b[49m\u001b[43m)\u001b[49m:\n\u001b[1;32m     10\u001b[0m         \u001b[38;5;28;01mif\u001b[39;00m is_final(c):\n\u001b[1;32m     11\u001b[0m             arrangements \u001b[38;5;241m+\u001b[39m\u001b[38;5;241m=\u001b[39m \u001b[38;5;241m1\u001b[39m\n",
      "Cell \u001b[0;32mIn[117], line 11\u001b[0m, in \u001b[0;36mis_valid\u001b[0;34m(record)\u001b[0m\n\u001b[1;32m      9\u001b[0m \u001b[38;5;28;01mdef\u001b[39;00m \u001b[38;5;21mis_valid\u001b[39m(record):\n\u001b[1;32m     10\u001b[0m     text \u001b[38;5;241m=\u001b[39m replace_symbols(record[\u001b[38;5;241m0\u001b[39m])\n\u001b[0;32m---> 11\u001b[0m     regex \u001b[38;5;241m=\u001b[39m \u001b[43mbuild_regex\u001b[49m\u001b[43m(\u001b[49m\u001b[43mrecord\u001b[49m\u001b[43m[\u001b[49m\u001b[38;5;241;43m1\u001b[39;49m\u001b[43m]\u001b[49m\u001b[43m)\u001b[49m\n\u001b[1;32m     12\u001b[0m     \u001b[38;5;28;01mreturn\u001b[39;00m re\u001b[38;5;241m.\u001b[39mfullmatch(regex, text)\n",
      "\u001b[0;31mTypeError\u001b[0m: unhashable type: 'list'"
     ]
    }
   ],
   "source": [
    "cProfile.run('count_arrangements(records5[1])')"
   ]
  },
  {
   "cell_type": "code",
   "execution_count": 91,
   "id": "33e0177f",
   "metadata": {},
   "outputs": [
    {
     "data": {
      "text/plain": [
       "6"
      ]
     },
     "execution_count": 91,
     "metadata": {},
     "output_type": "execute_result"
    }
   ],
   "source": [
    "c"
   ]
  },
  {
   "cell_type": "code",
   "execution_count": null,
   "id": "614c06d3",
   "metadata": {},
   "outputs": [],
   "source": []
  }
 ],
 "metadata": {
  "kernelspec": {
   "display_name": "Python 3 (ipykernel)",
   "language": "python",
   "name": "python3"
  },
  "language_info": {
   "codemirror_mode": {
    "name": "ipython",
    "version": 3
   },
   "file_extension": ".py",
   "mimetype": "text/x-python",
   "name": "python",
   "nbconvert_exporter": "python",
   "pygments_lexer": "ipython3",
   "version": "3.10.9"
  }
 },
 "nbformat": 4,
 "nbformat_minor": 5
}
