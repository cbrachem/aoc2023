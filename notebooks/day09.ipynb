{
 "cells": [
  {
   "cell_type": "code",
   "execution_count": 1,
   "id": "cdee178c",
   "metadata": {},
   "outputs": [],
   "source": [
    "import numpy as np\n",
    "\n",
    "def parse_input(filename):\n",
    "    with open(filename) as f:\n",
    "        lines = [line.strip() for line in f]\n",
    "    return np.array([np.fromstring(line, dtype=int, sep=' ') for line in lines])"
   ]
  },
  {
   "cell_type": "code",
   "execution_count": 2,
   "id": "e429ea1b",
   "metadata": {},
   "outputs": [],
   "source": [
    "# sequences = parse_input(\"../input/day09-sample1.txt\")\n",
    "sequences = parse_input(\"../input/day09-input.txt\")"
   ]
  },
  {
   "cell_type": "code",
   "execution_count": 3,
   "id": "d134b773",
   "metadata": {},
   "outputs": [],
   "source": [
    "def append_col(a):\n",
    "    b = np.zeros((len(a), len(a[0]) + 1), dtype=int)\n",
    "    b[:,:-1] = a\n",
    "    return b"
   ]
  },
  {
   "cell_type": "code",
   "execution_count": 5,
   "id": "c9d5817d",
   "metadata": {},
   "outputs": [
    {
     "data": {
      "text/plain": [
       "array([[      28,       38,       58, ...,  5115341,  9472583,        0],\n",
       "       [      24,       34,       56, ...,    73003,    93875,        0],\n",
       "       [      12,       30,       66, ...,  2347766,  3860393,        0],\n",
       "       ...,\n",
       "       [      16,       32,       61, ...,  8007452, 17127734,        0],\n",
       "       [       0,        9,       25, ...,  5046590, 10003946,        0],\n",
       "       [      -4,       12,       56, ...,    17685,    20456,        0]])"
      ]
     },
     "execution_count": 5,
     "metadata": {},
     "output_type": "execute_result"
    }
   ],
   "source": [
    "append_col(sequences)"
   ]
  },
  {
   "cell_type": "code",
   "execution_count": 6,
   "id": "dcdb554f",
   "metadata": {},
   "outputs": [],
   "source": [
    "def part1(seqs):\n",
    "    return np.sum(np.diff(append_col(np.array(seqs)), n = len(seqs[0])) * -1)"
   ]
  },
  {
   "cell_type": "code",
   "execution_count": 7,
   "id": "fdbf8ccb",
   "metadata": {},
   "outputs": [
    {
     "data": {
      "text/plain": [
       "1806615041"
      ]
     },
     "execution_count": 7,
     "metadata": {},
     "output_type": "execute_result"
    }
   ],
   "source": [
    "part1(sequences)"
   ]
  },
  {
   "cell_type": "code",
   "execution_count": 8,
   "id": "367cab47",
   "metadata": {},
   "outputs": [],
   "source": [
    "# part2 = reversing part1\n",
    "def part2(seqs):\n",
    "    return part1(seqs[:,::-1])"
   ]
  },
  {
   "cell_type": "code",
   "execution_count": 9,
   "id": "94cd4c64",
   "metadata": {},
   "outputs": [
    {
     "data": {
      "text/plain": [
       "1211"
      ]
     },
     "execution_count": 9,
     "metadata": {},
     "output_type": "execute_result"
    }
   ],
   "source": [
    "part2(sequences)"
   ]
  },
  {
   "cell_type": "code",
   "execution_count": null,
   "id": "c5a7d08f",
   "metadata": {},
   "outputs": [],
   "source": []
  }
 ],
 "metadata": {
  "kernelspec": {
   "display_name": "Python 3 (ipykernel)",
   "language": "python",
   "name": "python3"
  },
  "language_info": {
   "codemirror_mode": {
    "name": "ipython",
    "version": 3
   },
   "file_extension": ".py",
   "mimetype": "text/x-python",
   "name": "python",
   "nbconvert_exporter": "python",
   "pygments_lexer": "ipython3",
   "version": "3.10.9"
  }
 },
 "nbformat": 4,
 "nbformat_minor": 5
}
