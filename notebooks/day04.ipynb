{
 "cells": [
  {
   "cell_type": "code",
   "execution_count": 1,
   "id": "18fc6c0a",
   "metadata": {},
   "outputs": [],
   "source": [
    "import numpy as np"
   ]
  },
  {
   "cell_type": "code",
   "execution_count": 2,
   "id": "801c2a16",
   "metadata": {},
   "outputs": [],
   "source": [
    "def get_numbers(xs):\n",
    "    return set(int(x) for x in xs.strip().split())\n",
    "\n",
    "def parse_input(filename):\n",
    "    with open(filename) as f:\n",
    "        lines = [line.rstrip().split(\":\")[1].strip() for line in f]\n",
    "    \n",
    "    games = []\n",
    "    for line in lines:\n",
    "        a, b = [get_numbers(x) for x in line.strip().split(\"|\")]\n",
    "        games.append((a, b))\n",
    "    return games"
   ]
  },
  {
   "cell_type": "code",
   "execution_count": 3,
   "id": "32b207b2",
   "metadata": {},
   "outputs": [],
   "source": [
    "# games = parse_input(\"../input/day04-sample1.txt\")\n",
    "games = parse_input(\"../input/day04-input.txt\")"
   ]
  },
  {
   "cell_type": "code",
   "execution_count": 4,
   "id": "3eb51b1f",
   "metadata": {},
   "outputs": [],
   "source": [
    "def winning_cards(game):\n",
    "    x = game[0] & game[1]\n",
    "    return len(x)\n",
    "\n",
    "def score(game):\n",
    "    l = winning_cards(game)\n",
    "    if l > 0:\n",
    "        return 2**(l-1)\n",
    "    else:\n",
    "        return 0\n",
    "\n",
    "def part1(games):\n",
    "    return sum(score(game) for game in games)"
   ]
  },
  {
   "cell_type": "code",
   "execution_count": 5,
   "id": "ff2823c2",
   "metadata": {},
   "outputs": [
    {
     "data": {
      "text/plain": [
       "22488"
      ]
     },
     "execution_count": 5,
     "metadata": {},
     "output_type": "execute_result"
    }
   ],
   "source": [
    "part1(games)"
   ]
  },
  {
   "cell_type": "code",
   "execution_count": 6,
   "id": "8ed12805",
   "metadata": {},
   "outputs": [],
   "source": [
    "def part2(games):\n",
    "    a = np.ones((len(games)), dtype=int)\n",
    "    for i, game in enumerate(games):\n",
    "        w = winning_cards(game)\n",
    "        a[i + 1:i + 1 + w] += a[i]\n",
    "    return sum(a)"
   ]
  },
  {
   "cell_type": "code",
   "execution_count": 7,
   "id": "cd1b93e5",
   "metadata": {},
   "outputs": [
    {
     "data": {
      "text/plain": [
       "7013204"
      ]
     },
     "execution_count": 7,
     "metadata": {},
     "output_type": "execute_result"
    }
   ],
   "source": [
    "part2(games)"
   ]
  }
 ],
 "metadata": {
  "kernelspec": {
   "display_name": "Python 3 (ipykernel)",
   "language": "python",
   "name": "python3"
  },
  "language_info": {
   "codemirror_mode": {
    "name": "ipython",
    "version": 3
   },
   "file_extension": ".py",
   "mimetype": "text/x-python",
   "name": "python",
   "nbconvert_exporter": "python",
   "pygments_lexer": "ipython3",
   "version": "3.10.9"
  }
 },
 "nbformat": 4,
 "nbformat_minor": 5
}
