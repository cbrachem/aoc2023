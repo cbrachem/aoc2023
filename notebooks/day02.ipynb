{
 "cells": [
  {
   "cell_type": "code",
   "execution_count": 1,
   "id": "d1ef28ed",
   "metadata": {},
   "outputs": [],
   "source": [
    "from collections import defaultdict\n",
    "import math"
   ]
  },
  {
   "cell_type": "code",
   "execution_count": 2,
   "id": "cc3b1a5c",
   "metadata": {},
   "outputs": [],
   "source": [
    "def parse_draw(draw):\n",
    "    cubes = defaultdict(lambda: 0)\n",
    "    for x in draw.split(\",\"):\n",
    "        num_str, color = [a.strip() for a in x.strip().split(\" \")]\n",
    "        num = int(num_str)\n",
    "        cubes[color] = num\n",
    "    return cubes"
   ]
  },
  {
   "cell_type": "code",
   "execution_count": 3,
   "id": "26c52b47",
   "metadata": {},
   "outputs": [],
   "source": [
    "def parse_input(filename):\n",
    "    # a game is (id, list(dict(color, num)))\n",
    "    games = []\n",
    "    with open(filename) as f:\n",
    "        for line in f:\n",
    "            first_part, second_part = line.split(\":\")\n",
    "            id = int(first_part.split(\" \")[1])\n",
    "            draws = [parse_draw(draw) for draw in second_part.strip().split(\";\")]\n",
    "            games.append((id, draws))\n",
    "    return games"
   ]
  },
  {
   "cell_type": "code",
   "execution_count": 4,
   "id": "ae40990a",
   "metadata": {},
   "outputs": [],
   "source": [
    "def possible(game, max_cubes):\n",
    "    id, draws = game\n",
    "    for k, v in max_cubes.items():\n",
    "        for draw in draws:\n",
    "            if draw[k] > v:\n",
    "                return 0\n",
    "    return id"
   ]
  },
  {
   "cell_type": "code",
   "execution_count": 5,
   "id": "b6027da3",
   "metadata": {},
   "outputs": [],
   "source": [
    "# games = parse_input(\"../input/day02-sample1.txt\")\n",
    "games = parse_input(\"../input/day02-input.txt\")"
   ]
  },
  {
   "cell_type": "code",
   "execution_count": 6,
   "id": "92cebd42",
   "metadata": {},
   "outputs": [
    {
     "data": {
      "text/plain": [
       "2285"
      ]
     },
     "execution_count": 6,
     "metadata": {},
     "output_type": "execute_result"
    }
   ],
   "source": [
    "max_cubes = {\n",
    "    \"red\": 12,\n",
    "    \"green\": 13,\n",
    "    \"blue\": 14\n",
    "}\n",
    "sum(possible(game, max_cubes) for game in games)"
   ]
  },
  {
   "cell_type": "code",
   "execution_count": 7,
   "id": "0c609c71",
   "metadata": {},
   "outputs": [],
   "source": [
    "# part 2"
   ]
  },
  {
   "cell_type": "code",
   "execution_count": 8,
   "id": "e817ac3b",
   "metadata": {},
   "outputs": [],
   "source": [
    "def combine_min(sets):\n",
    "    keys = set().union(*[s.keys() for s in sets])\n",
    "    min_cubes = {}\n",
    "    for key in keys:\n",
    "        min_cubes[key] = max(s[key] for s in sets)\n",
    "    return min_cubes"
   ]
  },
  {
   "cell_type": "code",
   "execution_count": 9,
   "id": "1e39536a",
   "metadata": {},
   "outputs": [],
   "source": [
    "def power(game):\n",
    "    id, draws = game\n",
    "    min_cubes = combine_min(draws)\n",
    "    return math.prod(min_cubes.values())"
   ]
  },
  {
   "cell_type": "code",
   "execution_count": 10,
   "id": "d6966111",
   "metadata": {},
   "outputs": [
    {
     "data": {
      "text/plain": [
       "77021"
      ]
     },
     "execution_count": 10,
     "metadata": {},
     "output_type": "execute_result"
    }
   ],
   "source": [
    "sum(power(game) for game in games)"
   ]
  },
  {
   "cell_type": "code",
   "execution_count": null,
   "id": "029e82d2",
   "metadata": {},
   "outputs": [],
   "source": []
  }
 ],
 "metadata": {
  "kernelspec": {
   "display_name": "Python 3 (ipykernel)",
   "language": "python",
   "name": "python3"
  },
  "language_info": {
   "codemirror_mode": {
    "name": "ipython",
    "version": 3
   },
   "file_extension": ".py",
   "mimetype": "text/x-python",
   "name": "python",
   "nbconvert_exporter": "python",
   "pygments_lexer": "ipython3",
   "version": "3.10.9"
  }
 },
 "nbformat": 4,
 "nbformat_minor": 5
}
