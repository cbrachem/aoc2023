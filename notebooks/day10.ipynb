{
 "cells": [
  {
   "cell_type": "code",
   "execution_count": 77,
   "id": "8ae873f4",
   "metadata": {},
   "outputs": [],
   "source": [
    "import numpy as np"
   ]
  },
  {
   "cell_type": "code",
   "execution_count": 111,
   "id": "bd7efc3e",
   "metadata": {},
   "outputs": [],
   "source": [
    "maze = [\".\" + l.strip() + \".\" for l in \"\"\"\n",
    "7-F7-\n",
    ".FJ|7\n",
    "SJLL7\n",
    "|F--J\n",
    "LJ.LJ\n",
    "\"\"\".strip().splitlines()]\n",
    "maze = [\".\" * len(maze[0])] + maze + [\".\" * len(maze[0])]\n",
    "\n",
    "def parse_input(filename):\n",
    "    with open(filename) as f:\n",
    "        maze = [\".\" + l.strip() + \".\" for l in f.read().strip().splitlines()]\n",
    "    maze = [\".\" * len(maze[0])] + maze + [\".\" * len(maze[0])]\n",
    "    return maze\n",
    "\n",
    "maze = parse_input(\"../input/day10-input.txt\")\n",
    "# maze = parse_input(\"../input/day10-sample1.txt\")"
   ]
  },
  {
   "cell_type": "code",
   "execution_count": 112,
   "id": "f514fdb2",
   "metadata": {},
   "outputs": [],
   "source": [
    "for i, l in enumerate(maze):\n",
    "    j = l.find(\"S\")\n",
    "    if j != -1:\n",
    "        start_coords = (i, j)"
   ]
  },
  {
   "cell_type": "code",
   "execution_count": 113,
   "id": "56e296e0",
   "metadata": {},
   "outputs": [
    {
     "data": {
      "text/plain": [
       "(63, 112)"
      ]
     },
     "execution_count": 113,
     "metadata": {},
     "output_type": "execute_result"
    }
   ],
   "source": [
    "start_coords"
   ]
  },
  {
   "cell_type": "code",
   "execution_count": 114,
   "id": "4faba3e1",
   "metadata": {},
   "outputs": [],
   "source": [
    "# for l in maze:\n",
    "#    print(l)"
   ]
  },
  {
   "cell_type": "code",
   "execution_count": 115,
   "id": "80df2b1f",
   "metadata": {},
   "outputs": [],
   "source": [
    "# key is direction where we're entering from, item is\n",
    "# ((delta i, delta j), direction where we'll be entering from)\n",
    "north = ((-1, 0), 's')\n",
    "south = ((1, 0), 'n')\n",
    "west = ((0, -1), 'e')\n",
    "east = ((0, 1), 'w')\n",
    "dirs = {\n",
    "    '.': {},\n",
    "    '|': {'s': north, 'n': south},\n",
    "    '-': {'w': east, 'e': west},\n",
    "    'L': {'n': east, 'e': north},\n",
    "    'J': {'n': west, 'w': north},\n",
    "    '7': {'s': west, 'w': south},\n",
    "    'F': {'s': east, 'e': south}\n",
    "}\n",
    "\n",
    "first_direction_mapping = {\n",
    "    (-1, 0): 'n',\n",
    "    (1, 0): 's',\n",
    "    (0, -1): 'w',\n",
    "    (0, 1): 'e'\n",
    "}"
   ]
  },
  {
   "cell_type": "code",
   "execution_count": 116,
   "id": "55166092",
   "metadata": {},
   "outputs": [],
   "source": [
    "s = start_coords\n",
    "loop = [s]\n",
    "ns = [(s[0] - 1, s[1]), (s[0] + 1, s[1]), (s[0], s[1] - 1), (s[0], s[1] + 1)]\n",
    "n, di, dj = [(n, di, dj) for n in ns for (di, dj), d in dirs[maze[n[0]][n[1]]].values() if (n[0] + di, n[1] + dj) == s][0]\n",
    "d = first_direction_mapping[(di, dj)]\n",
    "next_pipe = maze[n[0]][n[1]]\n",
    "# print(n, d, next_pipe)\n",
    "while next_pipe != 'S':\n",
    "    loop.append(n)\n",
    "    # print(loop, n, d, next_pipe)\n",
    "    (di, dj), d = dirs[next_pipe][d]\n",
    "    n = (n[0] + di, n[1] + dj)\n",
    "    next_pipe = maze[n[0]][n[1]]"
   ]
  },
  {
   "cell_type": "code",
   "execution_count": 117,
   "id": "cca131f4",
   "metadata": {},
   "outputs": [
    {
     "data": {
      "text/plain": [
       "6733"
      ]
     },
     "execution_count": 117,
     "metadata": {},
     "output_type": "execute_result"
    }
   ],
   "source": [
    "part1 = len(loop) // 2\n",
    "part1"
   ]
  },
  {
   "cell_type": "code",
   "execution_count": 118,
   "id": "d08e8e39",
   "metadata": {},
   "outputs": [],
   "source": [
    "# shoelace formula\n",
    "# https://en.wikipedia.org/wiki/Shoelace_formula\n",
    "# https://stackoverflow.com/a/58515054/1071311\n",
    "def shoelace(x_y):\n",
    "    x_y = np.array(x_y, dtype=int)\n",
    "    x_y = x_y.reshape(-1,2)\n",
    "\n",
    "    x = x_y[:,0]\n",
    "    y = x_y[:,1]\n",
    "\n",
    "    S1 = np.sum(x*np.roll(y,-1))\n",
    "    S2 = np.sum(y*np.roll(x,-1))\n",
    "\n",
    "    area = np.absolute(S1 - S2) / 2\n",
    "\n",
    "    return area"
   ]
  },
  {
   "cell_type": "code",
   "execution_count": 119,
   "id": "75894f95",
   "metadata": {},
   "outputs": [
    {
     "data": {
      "text/plain": [
       "7167.0"
      ]
     },
     "execution_count": 119,
     "metadata": {},
     "output_type": "execute_result"
    }
   ],
   "source": [
    "shoelace(loop)"
   ]
  },
  {
   "cell_type": "code",
   "execution_count": 120,
   "id": "f366432c",
   "metadata": {},
   "outputs": [
    {
     "data": {
      "text/plain": [
       "435.0"
      ]
     },
     "execution_count": 120,
     "metadata": {},
     "output_type": "execute_result"
    }
   ],
   "source": [
    "# https://en.wikipedia.org/wiki/Pick's_theorem\n",
    "# A = i + b / 2 - 1\n",
    "part2 = shoelace(loop) - len(loop) / 2 + 1\n",
    "part2"
   ]
  },
  {
   "cell_type": "code",
   "execution_count": 98,
   "id": "02d091c5",
   "metadata": {},
   "outputs": [],
   "source": []
  }
 ],
 "metadata": {
  "kernelspec": {
   "display_name": "Python 3 (ipykernel)",
   "language": "python",
   "name": "python3"
  },
  "language_info": {
   "codemirror_mode": {
    "name": "ipython",
    "version": 3
   },
   "file_extension": ".py",
   "mimetype": "text/x-python",
   "name": "python",
   "nbconvert_exporter": "python",
   "pygments_lexer": "ipython3",
   "version": "3.10.9"
  }
 },
 "nbformat": 4,
 "nbformat_minor": 5
}
