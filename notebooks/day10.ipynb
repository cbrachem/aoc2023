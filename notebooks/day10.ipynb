{
 "cells": [
  {
   "cell_type": "code",
   "execution_count": 7,
   "id": "bd7efc3e",
   "metadata": {},
   "outputs": [],
   "source": [
    "maze = [\".\" + l.strip() + \".\" for l in \"\"\"\n",
    "7-F7-\n",
    ".FJ|7\n",
    "SJLL7\n",
    "|F--J\n",
    "LJ.LJ\n",
    "\"\"\".strip().splitlines()]\n",
    "maze = [\".\" * len(maze[0])] + maze + [\".\" * len(maze[0])]"
   ]
  },
  {
   "cell_type": "code",
   "execution_count": 8,
   "id": "f514fdb2",
   "metadata": {},
   "outputs": [],
   "source": [
    "for i, l in enumerate(maze):\n",
    "    j = l.find(\"S\")\n",
    "    if y != -1:\n",
    "        start_coords = i, j"
   ]
  },
  {
   "cell_type": "code",
   "execution_count": 9,
   "id": "56e296e0",
   "metadata": {},
   "outputs": [
    {
     "data": {
      "text/plain": [
       "(3, 1)"
      ]
     },
     "execution_count": 9,
     "metadata": {},
     "output_type": "execute_result"
    }
   ],
   "source": [
    "start_coords"
   ]
  },
  {
   "cell_type": "code",
   "execution_count": 10,
   "id": "4faba3e1",
   "metadata": {},
   "outputs": [
    {
     "data": {
      "text/plain": [
       "['.......', '.7-F7-.', '..FJ|7.', '.SJLL7.', '.|F--J.', '.LJ.LJ.', '.......']"
      ]
     },
     "execution_count": 10,
     "metadata": {},
     "output_type": "execute_result"
    }
   ],
   "source": [
    "maze"
   ]
  },
  {
   "cell_type": "code",
   "execution_count": null,
   "id": "80df2b1f",
   "metadata": {},
   "outputs": [],
   "source": [
    "dirs = {\n",
    "    '.': {},\n",
    "    '|': {'s': (-1, 0)}\n",
    "}"
   ]
  }
 ],
 "metadata": {
  "kernelspec": {
   "display_name": "Python 3 (ipykernel)",
   "language": "python",
   "name": "python3"
  },
  "language_info": {
   "codemirror_mode": {
    "name": "ipython",
    "version": 3
   },
   "file_extension": ".py",
   "mimetype": "text/x-python",
   "name": "python",
   "nbconvert_exporter": "python",
   "pygments_lexer": "ipython3",
   "version": "3.10.9"
  }
 },
 "nbformat": 4,
 "nbformat_minor": 5
}
