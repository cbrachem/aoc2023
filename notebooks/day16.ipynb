{
 "cells": [
  {
   "cell_type": "code",
   "execution_count": 1,
   "id": "a0b7d26d",
   "metadata": {},
   "outputs": [],
   "source": [
    "import collections"
   ]
  },
  {
   "cell_type": "code",
   "execution_count": 2,
   "id": "1f2a73f8",
   "metadata": {},
   "outputs": [],
   "source": [
    "def read_input(filename):\n",
    "    with open(filename) as f:\n",
    "        return [line.strip(\"\\n\") for line in f]"
   ]
  },
  {
   "cell_type": "code",
   "execution_count": 3,
   "id": "5fe64cdb",
   "metadata": {},
   "outputs": [],
   "source": [
    "# contraption = read_input(\"../input/day16-sample1.txt\")\n",
    "contraption = read_input(\"../input/day16-input.txt\")"
   ]
  },
  {
   "cell_type": "code",
   "execution_count": 4,
   "id": "19476ef2",
   "metadata": {},
   "outputs": [],
   "source": [
    "height = len(contraption)\n",
    "width = len(contraption[0])\n",
    "# for row in contraption:\n",
    "#     print(row)"
   ]
  },
  {
   "cell_type": "code",
   "execution_count": 5,
   "id": "8ca60acd",
   "metadata": {},
   "outputs": [],
   "source": [
    "def move(i, j, di):\n",
    "    if di == 'u':\n",
    "        return (i - 1, j, di)\n",
    "    elif di == 'd':\n",
    "        return (i + 1, j, di)\n",
    "    elif di == 'l':\n",
    "        return (i, j - 1, di)\n",
    "    else: # r\n",
    "        return (i, j + 1, di)\n",
    "\n",
    "reflections = {\n",
    "    '/': {\n",
    "        'u': ['r'],\n",
    "        'd': ['l'],\n",
    "        'l': ['d'],\n",
    "        'r': ['u']\n",
    "    },\n",
    "    '\\\\': {\n",
    "        'u': ['l'],\n",
    "        'd': ['r'],\n",
    "        'l': ['u'],\n",
    "        'r': ['d']\n",
    "    },\n",
    "    '.': {\n",
    "        'u': ['u'],\n",
    "        'd': ['d'],\n",
    "        'l': ['l'],\n",
    "        'r': ['r']\n",
    "    },\n",
    "    '|': {\n",
    "        'u': ['u'],\n",
    "        'd': ['d'],\n",
    "        'l': ['u', 'd'],\n",
    "        'r': ['u', 'd']\n",
    "    },\n",
    "    '-': {\n",
    "        'u': ['l', 'r'],\n",
    "        'd': ['l', 'r'],\n",
    "        'l': ['l'],\n",
    "        'r': ['r']\n",
    "    }\n",
    "}\n",
    "\n",
    "\n",
    "def clamp(ps):\n",
    "    return [p for p in ps if 0 <= p[0] < height and 0 <= p[1] < width]\n",
    "    \n",
    "def neigh(p, ch):\n",
    "    i, j, di = p\n",
    "    return clamp(move(i, j, rdi) for rdi in reflections[ch][di])"
   ]
  },
  {
   "cell_type": "code",
   "execution_count": 6,
   "id": "f005da34",
   "metadata": {},
   "outputs": [],
   "source": [
    "def bfs(start):\n",
    "    seen = set([start])\n",
    "    distances = {start: 0}\n",
    "    q = collections.deque([start])\n",
    "    while q:\n",
    "        p = q.popleft()\n",
    "        ns = neigh(p, contraption[p[0]][p[1]])\n",
    "        for n in ns:\n",
    "            if n not in seen:\n",
    "                seen.add(n)\n",
    "                q.append(n)\n",
    "    return len(set((i, j) for i, j, di in seen))"
   ]
  },
  {
   "cell_type": "code",
   "execution_count": 7,
   "id": "e4334d62",
   "metadata": {},
   "outputs": [
    {
     "data": {
      "text/plain": [
       "6883"
      ]
     },
     "execution_count": 7,
     "metadata": {},
     "output_type": "execute_result"
    }
   ],
   "source": [
    "start = (0, 0, 'r')\n",
    "part1 = bfs(start)\n",
    "part1"
   ]
  },
  {
   "cell_type": "code",
   "execution_count": 8,
   "id": "d06ef08e",
   "metadata": {},
   "outputs": [
    {
     "data": {
      "text/plain": [
       "7228"
      ]
     },
     "execution_count": 8,
     "metadata": {},
     "output_type": "execute_result"
    }
   ],
   "source": [
    "possible_starts = (\n",
    "    [(0, i, 'd') for i in range(width)] +\n",
    "    [(height - 1, i, 'u') for i in range(width)] +\n",
    "    [(i, 0, 'r') for i in range(height)] +\n",
    "    [(i, width - 1, 'l') for i in range(height)]\n",
    ")\n",
    "part2 = max(bfs(s) for s in possible_starts)\n",
    "part2"
   ]
  },
  {
   "cell_type": "code",
   "execution_count": null,
   "id": "f0add5a6",
   "metadata": {},
   "outputs": [],
   "source": []
  }
 ],
 "metadata": {
  "kernelspec": {
   "display_name": "Python 3 (ipykernel)",
   "language": "python",
   "name": "python3"
  },
  "language_info": {
   "codemirror_mode": {
    "name": "ipython",
    "version": 3
   },
   "file_extension": ".py",
   "mimetype": "text/x-python",
   "name": "python",
   "nbconvert_exporter": "python",
   "pygments_lexer": "ipython3",
   "version": "3.10.9"
  }
 },
 "nbformat": 4,
 "nbformat_minor": 5
}
