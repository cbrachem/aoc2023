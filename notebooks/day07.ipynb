{
 "cells": [
  {
   "cell_type": "code",
   "execution_count": 1,
   "id": "2f931bc1",
   "metadata": {},
   "outputs": [],
   "source": [
    "from enum import IntEnum\n",
    "from dataclasses import dataclass\n",
    "import collections"
   ]
  },
  {
   "cell_type": "code",
   "execution_count": 2,
   "id": "d6a0e8f3",
   "metadata": {},
   "outputs": [],
   "source": [
    "class HandType(IntEnum):\n",
    "    HighCard = 1\n",
    "    OnePair = 2\n",
    "    TwoPair = 3\n",
    "    ThreeOAK = 4\n",
    "    FullHouse = 5\n",
    "    FourOAK = 6\n",
    "    FiveOAK = 7\n",
    "\n",
    "class Card(IntEnum):\n",
    "    JOKER = 1\n",
    "    N2 = 2\n",
    "    N3 = 3\n",
    "    N4 = 4\n",
    "    N5 = 5\n",
    "    N6 = 6\n",
    "    N7 = 7\n",
    "    N8 = 8\n",
    "    N9 = 9\n",
    "    T = 10\n",
    "    J = 11\n",
    "    Q = 12\n",
    "    K = 13\n",
    "    A = 14\n",
    "\n",
    "card_mapping = {\n",
    "    \"2\": Card.N2,\n",
    "    \"3\": Card.N3,\n",
    "    \"4\": Card.N4,\n",
    "    \"5\": Card.N5,\n",
    "    \"6\": Card.N6,\n",
    "    \"7\": Card.N7,\n",
    "    \"8\": Card.N8,\n",
    "    \"9\": Card.N9,\n",
    "    \"T\": Card.T,\n",
    "    \"J\": Card.J,\n",
    "    \"Q\": Card.Q,\n",
    "    \"K\": Card.K,\n",
    "    \"A\": Card.A\n",
    "}"
   ]
  },
  {
   "cell_type": "code",
   "execution_count": 3,
   "id": "016ea447",
   "metadata": {},
   "outputs": [],
   "source": [
    "def determine_type(cards):\n",
    "    cards_without_joker = filter(lambda c: c != Card.JOKER, cards)\n",
    "    c = collections.Counter(cards_without_joker)\n",
    "    num_jokers = len(cards) - c.total()\n",
    "    if num_jokers > 3:\n",
    "        return HandType.FiveOAK\n",
    "    freq_list = sorted(c.values())\n",
    "    freq_list[-1] += num_jokers\n",
    "    freq = tuple(freq_list)\n",
    "    if freq == (5,):\n",
    "        return HandType.FiveOAK\n",
    "    elif freq == (2, 3):\n",
    "        return HandType.FullHouse\n",
    "    elif freq == (1, 4):\n",
    "        return HandType.FourOAK\n",
    "    elif freq == (1, 1, 3):\n",
    "        return HandType.ThreeOAK\n",
    "    elif freq == (1, 2, 2):\n",
    "        return HandType.TwoPair\n",
    "    elif freq == (1, 1, 1, 2):\n",
    "        return HandType.OnePair\n",
    "    else:\n",
    "        return HandType.HighCard\n",
    "\n",
    "class Hand:\n",
    "    def __init__(self, cards):\n",
    "        self.type = determine_type(cards)\n",
    "        self.cards = cards\n",
    "    \n",
    "    def __eq__(self, other):\n",
    "        return (self.type == other.type) and (self.cards == other.cards)\n",
    "    \n",
    "    def __lt__(self, other):\n",
    "        return (self.type < other.type) or (self.type == other.type and self.cards < other.cards)\n",
    "    \n",
    "    def __repr__(self):\n",
    "        return f\"({self.type}, {self.cards})\"\n",
    "    \n",
    "    def with_jokers(self):\n",
    "        new_cards = tuple(Card.JOKER if c == Card.J else c for c in self.cards)\n",
    "        return Hand(new_cards)"
   ]
  },
  {
   "cell_type": "code",
   "execution_count": 4,
   "id": "989e2f14",
   "metadata": {},
   "outputs": [],
   "source": [
    "def parse_input(filename):\n",
    "    with open(filename) as f:\n",
    "        lines = [line.strip() for line in f]\n",
    "        \n",
    "    game = []\n",
    "    for line in lines:\n",
    "        hand_str, bid_str = line.split(\" \")\n",
    "        hand = tuple(card_mapping[c] for c in list(hand_str))\n",
    "        bid = int(bid_str)\n",
    "        game.append((Hand(hand), bid))\n",
    "        \n",
    "    return game"
   ]
  },
  {
   "cell_type": "code",
   "execution_count": 5,
   "id": "1bd0ede2",
   "metadata": {},
   "outputs": [],
   "source": [
    "# game = parse_input(\"../input/day07-sample1.txt\")\n",
    "game = parse_input(\"../input/day07-input.txt\")"
   ]
  },
  {
   "cell_type": "code",
   "execution_count": 6,
   "id": "f6af07cb",
   "metadata": {},
   "outputs": [],
   "source": [
    "def winnings(game):\n",
    "    return sum(bid * rank for bid,rank in zip((bid for hand,bid in sorted(game)), range(1, len(game) + 1)))\n",
    "\n",
    "def part1(game):\n",
    "    return winnings(game)"
   ]
  },
  {
   "cell_type": "code",
   "execution_count": 7,
   "id": "1e72b113",
   "metadata": {},
   "outputs": [
    {
     "data": {
      "text/plain": [
       "248179786"
      ]
     },
     "execution_count": 7,
     "metadata": {},
     "output_type": "execute_result"
    }
   ],
   "source": [
    "part1(game)"
   ]
  },
  {
   "cell_type": "code",
   "execution_count": 8,
   "id": "aed542e1",
   "metadata": {},
   "outputs": [],
   "source": [
    "def part2(game):\n",
    "    game2 = [(hand.with_jokers(), bid) for hand, bid in game]\n",
    "    return winnings(game2)"
   ]
  },
  {
   "cell_type": "code",
   "execution_count": 9,
   "id": "e80554f0",
   "metadata": {},
   "outputs": [
    {
     "data": {
      "text/plain": [
       "247885995"
      ]
     },
     "execution_count": 9,
     "metadata": {},
     "output_type": "execute_result"
    }
   ],
   "source": [
    "part2(game)"
   ]
  },
  {
   "cell_type": "code",
   "execution_count": null,
   "id": "2e4d30de",
   "metadata": {},
   "outputs": [],
   "source": []
  }
 ],
 "metadata": {
  "kernelspec": {
   "display_name": "Python 3 (ipykernel)",
   "language": "python",
   "name": "python3"
  },
  "language_info": {
   "codemirror_mode": {
    "name": "ipython",
    "version": 3
   },
   "file_extension": ".py",
   "mimetype": "text/x-python",
   "name": "python",
   "nbconvert_exporter": "python",
   "pygments_lexer": "ipython3",
   "version": "3.10.9"
  }
 },
 "nbformat": 4,
 "nbformat_minor": 5
}
