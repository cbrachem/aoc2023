{
 "cells": [
  {
   "cell_type": "code",
   "execution_count": 73,
   "id": "9f892a9c",
   "metadata": {},
   "outputs": [],
   "source": [
    "import matplotlib.pyplot as plt\n",
    "import networkx as nx\n",
    "import collections\n",
    "from networkx.classes.function import path_weight\n",
    "%matplotlib inline"
   ]
  },
  {
   "cell_type": "code",
   "execution_count": 3,
   "id": "9c51cb4c",
   "metadata": {},
   "outputs": [],
   "source": [
    "def read_input(filename):\n",
    "    with open(filename) as f:\n",
    "        return [line.strip() for line in f]"
   ]
  },
  {
   "cell_type": "code",
   "execution_count": 90,
   "id": "891da5a5",
   "metadata": {},
   "outputs": [],
   "source": [
    "# maze = read_input(\"../input/day23-sample1.txt\")\n",
    "maze = read_input(\"../input/day23-input.txt\")"
   ]
  },
  {
   "cell_type": "code",
   "execution_count": 91,
   "id": "b9a0b7ac",
   "metadata": {},
   "outputs": [],
   "source": [
    "# maze"
   ]
  },
  {
   "cell_type": "code",
   "execution_count": 92,
   "id": "397ae49c",
   "metadata": {},
   "outputs": [],
   "source": [
    "G = nx.DiGraph()\n",
    "\n",
    "Q = collections.deque()\n",
    "Q.append((0, 1))\n",
    "seen = set()\n",
    "seen.add((0, 1))\n",
    "\n",
    "def neigh(i, j):\n",
    "    ch = maze[i][j]\n",
    "    if ch == '<':\n",
    "        return [(i, j - 1)]\n",
    "    elif ch == '>':\n",
    "        return [(i, j + 1)]\n",
    "    elif ch == '^':\n",
    "        return [(i - 1, j)]\n",
    "    elif ch == 'v':\n",
    "        return [(i + 1, j)]\n",
    "    else:\n",
    "        cand = [(i + 1, j), (i - 1, j), (i, j + 1), (i, j - 1)]\n",
    "        return [c for c in cand if 0 <= c[0] < len(maze) and 0 <= c[1] < len(maze[0]) and maze[c[0]][c[1]] != '#']\n",
    "\n",
    "while Q:\n",
    "    node = Q.popleft()\n",
    "    i,j = node\n",
    "    for n in neigh(i, j):        \n",
    "        G.add_edge(node, n)\n",
    "        if n not in seen:\n",
    "            Q.append(n)\n",
    "            seen.add(n)\n",
    "\n",
    "# edit: just learned about grid_2d_graph. good to know for next time"
   ]
  },
  {
   "cell_type": "code",
   "execution_count": 93,
   "id": "f83454d8",
   "metadata": {},
   "outputs": [
    {
     "data": {
      "text/plain": [
       "2362"
      ]
     },
     "execution_count": 93,
     "metadata": {},
     "output_type": "execute_result"
    }
   ],
   "source": [
    "src, dst = (0, maze[0].index('.')), (len(maze) - 1, maze[-1].index('.'))\n",
    "\n",
    "part1 = max(\n",
    "    len(p)\n",
    "    for p in nx.all_simple_edge_paths(G, src, dst))\n",
    "part1"
   ]
  },
  {
   "cell_type": "code",
   "execution_count": 94,
   "id": "5f605327",
   "metadata": {},
   "outputs": [],
   "source": [
    "# simplify maze. we can skip everything but junctions\n",
    "G2 = G.to_undirected()\n",
    "ns = [n for n in G2 if len(G2.edges(n)) == 2]\n",
    "for n in ns:\n",
    "    ne1, ne2 = list(G2.neighbors(n))\n",
    "    weight = sum(G2.edges[n, ne].get(\"weight\", 1) for ne in [ne1, ne2])\n",
    "    G2.add_edge(ne1, ne2, weight=weight)\n",
    "    G2.remove_node(n)"
   ]
  },
  {
   "cell_type": "code",
   "execution_count": 95,
   "id": "003d51cc",
   "metadata": {},
   "outputs": [],
   "source": [
    "# nx.draw(G2)"
   ]
  },
  {
   "cell_type": "code",
   "execution_count": 96,
   "id": "31db299b",
   "metadata": {},
   "outputs": [
    {
     "data": {
      "text/plain": [
       "6538"
      ]
     },
     "execution_count": 96,
     "metadata": {},
     "output_type": "execute_result"
    }
   ],
   "source": [
    "part2 = max(\n",
    "    path_weight(G2, p, \"weight\")\n",
    "    for p\n",
    "    in nx.all_simple_paths(G2, src, dst)\n",
    ")\n",
    "part2"
   ]
  },
  {
   "cell_type": "code",
   "execution_count": null,
   "id": "d7b2c13a",
   "metadata": {},
   "outputs": [],
   "source": []
  }
 ],
 "metadata": {
  "kernelspec": {
   "display_name": "Python 3 (ipykernel)",
   "language": "python",
   "name": "python3"
  },
  "language_info": {
   "codemirror_mode": {
    "name": "ipython",
    "version": 3
   },
   "file_extension": ".py",
   "mimetype": "text/x-python",
   "name": "python",
   "nbconvert_exporter": "python",
   "pygments_lexer": "ipython3",
   "version": "3.10.9"
  }
 },
 "nbformat": 4,
 "nbformat_minor": 5
}
